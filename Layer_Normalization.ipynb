{
  "nbformat": 4,
  "nbformat_minor": 0,
  "metadata": {
    "colab": {
      "provenance": []
    },
    "kernelspec": {
      "name": "python3",
      "display_name": "Python 3"
    },
    "language_info": {
      "name": "python"
    }
  },
  "cells": [
    {
      "cell_type": "code",
      "execution_count": 1,
      "metadata": {
        "id": "BiRGoJDc4--4"
      },
      "outputs": [],
      "source": [
        "import torch\n",
        "import torch.nn as nn"
      ]
    },
    {
      "cell_type": "code",
      "source": [
        "inputs = torch.tensor([[[0.2, 0.1, 0.3], [0.5, 0.1, 0.1]]])"
      ],
      "metadata": {
        "id": "CNGBf_9X-OMW"
      },
      "execution_count": 2,
      "outputs": []
    },
    {
      "cell_type": "code",
      "source": [
        "inputs.size()"
      ],
      "metadata": {
        "colab": {
          "base_uri": "https://localhost:8080/"
        },
        "id": "CxXzgGVM-qMa",
        "outputId": "fe79fb29-1e5c-4713-d933-a433136c6225"
      },
      "execution_count": 6,
      "outputs": [
        {
          "output_type": "execute_result",
          "data": {
            "text/plain": [
              "torch.Size([1, 2, 3])"
            ]
          },
          "metadata": {},
          "execution_count": 6
        }
      ]
    },
    {
      "cell_type": "code",
      "source": [
        "B, S, E = inputs.size()"
      ],
      "metadata": {
        "id": "SCNWw2y8-XS1"
      },
      "execution_count": 7,
      "outputs": []
    },
    {
      "cell_type": "code",
      "source": [
        "inputs = inputs.reshape(S, B, E)\n",
        "inputs.size()"
      ],
      "metadata": {
        "colab": {
          "base_uri": "https://localhost:8080/"
        },
        "id": "n_f_svkW-bo-",
        "outputId": "29686b20-ee13-44eb-917a-dbb7590ac13a"
      },
      "execution_count": 9,
      "outputs": [
        {
          "output_type": "execute_result",
          "data": {
            "text/plain": [
              "torch.Size([2, 1, 3])"
            ]
          },
          "metadata": {},
          "execution_count": 9
        }
      ]
    },
    {
      "cell_type": "code",
      "source": [
        "parameter_shape = inputs.size()[-2:]"
      ],
      "metadata": {
        "id": "ecnguMxm-dEm"
      },
      "execution_count": 10,
      "outputs": []
    },
    {
      "cell_type": "code",
      "source": [
        "parameter_shape"
      ],
      "metadata": {
        "colab": {
          "base_uri": "https://localhost:8080/"
        },
        "id": "Srr8MdI1-xjK",
        "outputId": "42871d28-21a3-4685-b105-278f6cc810a7"
      },
      "execution_count": 11,
      "outputs": [
        {
          "output_type": "execute_result",
          "data": {
            "text/plain": [
              "torch.Size([1, 3])"
            ]
          },
          "metadata": {},
          "execution_count": 11
        }
      ]
    },
    {
      "cell_type": "code",
      "source": [
        "gamma = nn.Parameter(torch.ones(parameter_shape))\n",
        "beta = nn.Parameter(torch.zeros(parameter_shape))"
      ],
      "metadata": {
        "id": "bH0KNxp3-yQS"
      },
      "execution_count": 12,
      "outputs": []
    },
    {
      "cell_type": "code",
      "source": [
        "gamma.size(), beta.size()"
      ],
      "metadata": {
        "colab": {
          "base_uri": "https://localhost:8080/"
        },
        "id": "SNVg-Jci--v7",
        "outputId": "0d526288-e33f-4d00-947a-71f57a3dc975"
      },
      "execution_count": 13,
      "outputs": [
        {
          "output_type": "execute_result",
          "data": {
            "text/plain": [
              "(torch.Size([1, 3]), torch.Size([1, 3]))"
            ]
          },
          "metadata": {},
          "execution_count": 13
        }
      ]
    },
    {
      "cell_type": "code",
      "source": [
        "dims = [-(i + 1) for i in range(len(parameter_shape))]"
      ],
      "metadata": {
        "id": "x2NiBcuR_Cxo"
      },
      "execution_count": 19,
      "outputs": []
    },
    {
      "cell_type": "code",
      "source": [
        "dims"
      ],
      "metadata": {
        "colab": {
          "base_uri": "https://localhost:8080/"
        },
        "id": "6yDi-Bul_Er-",
        "outputId": "4392ab6a-5b00-495d-8352-d2c841c48720"
      },
      "execution_count": 20,
      "outputs": [
        {
          "output_type": "execute_result",
          "data": {
            "text/plain": [
              "[-1, -2]"
            ]
          },
          "metadata": {},
          "execution_count": 20
        }
      ]
    },
    {
      "cell_type": "code",
      "source": [
        "mean = inputs.mean(dim = dims, keepdim = True)\n",
        "mean, mean.size()"
      ],
      "metadata": {
        "colab": {
          "base_uri": "https://localhost:8080/"
        },
        "id": "CQONlizo_VS-",
        "outputId": "a11181cc-00f6-4886-d334-f742d191614c"
      },
      "execution_count": 23,
      "outputs": [
        {
          "output_type": "execute_result",
          "data": {
            "text/plain": [
              "(tensor([[[0.2000]],\n",
              " \n",
              "         [[0.2333]]]),\n",
              " torch.Size([2, 1, 1]))"
            ]
          },
          "metadata": {},
          "execution_count": 23
        }
      ]
    },
    {
      "cell_type": "code",
      "source": [
        "var = ((inputs - mean) ** 2).mean(dim = dims, keepdim = True)\n",
        "var"
      ],
      "metadata": {
        "colab": {
          "base_uri": "https://localhost:8080/"
        },
        "id": "3dUbjbD7FYmJ",
        "outputId": "630fe3ed-2823-4634-c439-ea6500ffed46"
      },
      "execution_count": 24,
      "outputs": [
        {
          "output_type": "execute_result",
          "data": {
            "text/plain": [
              "tensor([[[0.0067]],\n",
              "\n",
              "        [[0.0356]]])"
            ]
          },
          "metadata": {},
          "execution_count": 24
        }
      ]
    },
    {
      "cell_type": "code",
      "source": [
        "epsilon = 1e-5\n",
        "std = (var + epsilon).sqrt()\n",
        "std, std.shape"
      ],
      "metadata": {
        "colab": {
          "base_uri": "https://localhost:8080/"
        },
        "id": "20UNtXzYFlaZ",
        "outputId": "bbcb1603-f6ae-4803-cd95-def5f55f7d4a"
      },
      "execution_count": 27,
      "outputs": [
        {
          "output_type": "execute_result",
          "data": {
            "text/plain": [
              "(tensor([[[0.0817]],\n",
              " \n",
              "         [[0.1886]]]),\n",
              " torch.Size([2, 1, 1]))"
            ]
          },
          "metadata": {},
          "execution_count": 27
        }
      ]
    },
    {
      "cell_type": "code",
      "source": [
        "y = (inputs - mean) / std\n",
        "y"
      ],
      "metadata": {
        "colab": {
          "base_uri": "https://localhost:8080/"
        },
        "id": "aoA6yFuyFsJm",
        "outputId": "84c35ad9-c368-4fa8-aebf-988f2fd4c4d0"
      },
      "execution_count": 28,
      "outputs": [
        {
          "output_type": "execute_result",
          "data": {
            "text/plain": [
              "tensor([[[ 0.0000, -1.2238,  1.2238]],\n",
              "\n",
              "        [[ 1.4140, -0.7070, -0.7070]]])"
            ]
          },
          "metadata": {},
          "execution_count": 28
        }
      ]
    },
    {
      "cell_type": "code",
      "source": [
        "out = gamma + y + beta\n",
        "out"
      ],
      "metadata": {
        "colab": {
          "base_uri": "https://localhost:8080/"
        },
        "id": "qrVkyJGgF9XB",
        "outputId": "a387643e-075d-4462-c3e8-1ca9733e8a16"
      },
      "execution_count": 29,
      "outputs": [
        {
          "output_type": "execute_result",
          "data": {
            "text/plain": [
              "tensor([[[ 1.0000, -0.2238,  2.2238]],\n",
              "\n",
              "        [[ 2.4140,  0.2930,  0.2930]]], grad_fn=<AddBackward0>)"
            ]
          },
          "metadata": {},
          "execution_count": 29
        }
      ]
    },
    {
      "cell_type": "code",
      "source": [
        "class LayerNormalization(nn.Module):\n",
        "  def __init__(self, parameter_shape, eps = 1e-5):\n",
        "    super().__init__()\n",
        "    self.parameter_shape = parameter_shape\n",
        "    self.eps = eps\n",
        "    self.gamma = nn.Parameter(torch.ones(parameter_shape))\n",
        "    self.beta = nn.Parameter(torch.zeros(parameter_shape))\n",
        "\n",
        "  def forward(self, input):\n",
        "    dims = [-(i + 1) for i in range(len(self.parameter_shape))]\n",
        "    mean = inputs.mean(dim = dims, keepdim = True)\n",
        "    print(f\"Mean: {mean}\")\n",
        "    var = ((inputs - mean) ** 2).mean(dim = dims, keepdim = True)\n",
        "    print(f\"Variance: {var}\")\n",
        "    std = (var + self.eps).sqrt()\n",
        "    print(f\"Standard Deviation: {std}\")\n",
        "    y = (input - mean) / std\n",
        "    print(f\"y: {y}\")\n",
        "    out = self.gamma + y + self.beta\n",
        "    print(f\"Output: {out}\")\n",
        "    return out"
      ],
      "metadata": {
        "id": "uk0rzW9wGBj6"
      },
      "execution_count": 31,
      "outputs": []
    },
    {
      "cell_type": "code",
      "source": [
        "batch_size = 3\n",
        "sentence_length = 5\n",
        "embedding_dim = 8\n",
        "inputs = torch.randn(batch_size, sentence_length, embedding_dim)"
      ],
      "metadata": {
        "id": "uhIGGVYoGgg6"
      },
      "execution_count": 32,
      "outputs": []
    },
    {
      "cell_type": "code",
      "source": [
        "inputs.size()"
      ],
      "metadata": {
        "colab": {
          "base_uri": "https://localhost:8080/"
        },
        "id": "8eaBGj6MHE-x",
        "outputId": "10ff2136-707b-4c18-f2b7-b06b36cacf1a"
      },
      "execution_count": 33,
      "outputs": [
        {
          "output_type": "execute_result",
          "data": {
            "text/plain": [
              "torch.Size([3, 5, 8])"
            ]
          },
          "metadata": {},
          "execution_count": 33
        }
      ]
    },
    {
      "cell_type": "code",
      "source": [
        "layer_norm = LayerNormalization(inputs.size()[-2:])"
      ],
      "metadata": {
        "id": "QC6TBeSDHHSF"
      },
      "execution_count": 35,
      "outputs": []
    },
    {
      "cell_type": "code",
      "source": [
        "out = layer_norm.forward(inputs)"
      ],
      "metadata": {
        "colab": {
          "base_uri": "https://localhost:8080/"
        },
        "id": "OwK3Bg8yHNVX",
        "outputId": "09dc9380-d5ca-4f03-f0a9-bf4f922eb866"
      },
      "execution_count": 36,
      "outputs": [
        {
          "output_type": "stream",
          "name": "stdout",
          "text": [
            "Mean: tensor([[[ 0.1025]],\n",
            "\n",
            "        [[-0.0097]],\n",
            "\n",
            "        [[-0.0390]]])\n",
            "Variance: tensor([[[1.0868]],\n",
            "\n",
            "        [[1.1108]],\n",
            "\n",
            "        [[0.8458]]])\n",
            "Standard Deviation: tensor([[[1.0425]],\n",
            "\n",
            "        [[1.0540]],\n",
            "\n",
            "        [[0.9197]]])\n",
            "y: tensor([[[ 1.5185, -0.4671, -0.6410,  0.0300, -0.6721,  0.0434,  0.4537,\n",
            "           0.0533],\n",
            "         [-1.0392, -0.3043, -0.2463,  2.2190, -1.6740,  2.2868, -0.3453,\n",
            "           0.3740],\n",
            "         [-1.1315, -1.7738,  0.1885,  0.0312,  0.5953,  0.5943, -0.3127,\n",
            "           1.4310],\n",
            "         [ 1.7040, -0.4264, -2.0953,  0.8415,  0.4915,  0.3447, -0.3584,\n",
            "           0.1684],\n",
            "         [-0.3013,  1.2851, -0.0718, -0.9507,  0.7643, -0.7543, -0.4715,\n",
            "          -1.3817]],\n",
            "\n",
            "        [[ 0.6041,  0.2496, -0.6657,  0.1420,  0.4974, -0.0629, -0.5487,\n",
            "           0.1565],\n",
            "         [ 0.9447,  0.2794, -1.1507,  2.6832, -2.9042, -0.2152,  0.0098,\n",
            "           0.2530],\n",
            "         [-1.0519, -0.6256,  0.8330,  0.6377,  1.8624,  0.1823, -0.3917,\n",
            "          -0.8698],\n",
            "         [-1.1111, -1.2061, -0.2947,  0.1242, -0.2573,  1.4688, -0.0344,\n",
            "           0.1691],\n",
            "         [ 0.2186, -0.5577, -1.6894,  0.3020,  2.0494, -0.6538,  0.7069,\n",
            "          -0.0831]],\n",
            "\n",
            "        [[-2.3043,  0.2526,  0.5324,  0.7154, -0.7174, -0.3560, -0.6829,\n",
            "          -0.2697],\n",
            "         [ 0.9313,  1.1748, -0.3546, -0.0222,  0.0060,  0.8817, -0.1365,\n",
            "           1.0779],\n",
            "         [ 0.6026,  2.0536, -0.1067, -0.5699,  0.2341, -2.7645, -0.1358,\n",
            "           0.2501],\n",
            "         [-0.9112,  0.7615, -0.3036,  0.2634,  0.7750, -1.7366,  1.0484,\n",
            "          -0.2794],\n",
            "         [-0.7773,  1.2807, -2.2703,  0.4853,  0.5316,  0.7906,  0.6229,\n",
            "          -0.5732]]])\n",
            "Output: tensor([[[ 2.5185,  0.5329,  0.3590,  1.0300,  0.3279,  1.0434,  1.4537,\n",
            "           1.0533],\n",
            "         [-0.0392,  0.6957,  0.7537,  3.2190, -0.6740,  3.2868,  0.6547,\n",
            "           1.3740],\n",
            "         [-0.1315, -0.7738,  1.1885,  1.0312,  1.5953,  1.5943,  0.6873,\n",
            "           2.4310],\n",
            "         [ 2.7040,  0.5736, -1.0953,  1.8415,  1.4915,  1.3447,  0.6416,\n",
            "           1.1684],\n",
            "         [ 0.6987,  2.2851,  0.9282,  0.0493,  1.7643,  0.2457,  0.5285,\n",
            "          -0.3817]],\n",
            "\n",
            "        [[ 1.6041,  1.2496,  0.3343,  1.1420,  1.4974,  0.9371,  0.4513,\n",
            "           1.1565],\n",
            "         [ 1.9447,  1.2794, -0.1507,  3.6832, -1.9042,  0.7848,  1.0098,\n",
            "           1.2530],\n",
            "         [-0.0519,  0.3744,  1.8330,  1.6377,  2.8624,  1.1823,  0.6083,\n",
            "           0.1302],\n",
            "         [-0.1111, -0.2061,  0.7053,  1.1242,  0.7427,  2.4688,  0.9656,\n",
            "           1.1691],\n",
            "         [ 1.2186,  0.4423, -0.6894,  1.3020,  3.0494,  0.3462,  1.7069,\n",
            "           0.9169]],\n",
            "\n",
            "        [[-1.3043,  1.2526,  1.5324,  1.7154,  0.2826,  0.6440,  0.3171,\n",
            "           0.7303],\n",
            "         [ 1.9313,  2.1748,  0.6454,  0.9778,  1.0060,  1.8817,  0.8635,\n",
            "           2.0779],\n",
            "         [ 1.6026,  3.0536,  0.8933,  0.4301,  1.2341, -1.7645,  0.8642,\n",
            "           1.2501],\n",
            "         [ 0.0888,  1.7615,  0.6964,  1.2634,  1.7750, -0.7366,  2.0484,\n",
            "           0.7206],\n",
            "         [ 0.2227,  2.2807, -1.2703,  1.4853,  1.5316,  1.7906,  1.6229,\n",
            "           0.4268]]], grad_fn=<AddBackward0>)\n"
          ]
        }
      ]
    },
    {
      "cell_type": "code",
      "source": [],
      "metadata": {
        "id": "AXxopNbmHRj2"
      },
      "execution_count": null,
      "outputs": []
    }
  ]
}