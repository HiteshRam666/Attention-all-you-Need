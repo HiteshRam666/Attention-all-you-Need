{
  "nbformat": 4,
  "nbformat_minor": 0,
  "metadata": {
    "colab": {
      "provenance": []
    },
    "kernelspec": {
      "name": "python3",
      "display_name": "Python 3"
    },
    "language_info": {
      "name": "python"
    }
  },
  "cells": [
    {
      "cell_type": "code",
      "execution_count": 15,
      "metadata": {
        "id": "YV9-SX1aUZlc"
      },
      "outputs": [],
      "source": [
        "import numpy as np\n",
        "import random\n",
        "import math"
      ]
    },
    {
      "cell_type": "code",
      "source": [
        "# L = Input_sequence_length\n",
        "L, d_k, d_v = 4, 8, 8\n",
        "\n",
        "q = np.random.randn(L, d_k)\n",
        "k = np.random.randn(L, d_k)\n",
        "v = np.random.randn(L, d_v)"
      ],
      "metadata": {
        "id": "oi29aCupUb96"
      },
      "execution_count": 16,
      "outputs": []
    },
    {
      "cell_type": "code",
      "source": [
        "q.shape, k.shape, v.shape"
      ],
      "metadata": {
        "colab": {
          "base_uri": "https://localhost:8080/"
        },
        "id": "K_IkslRgUrEv",
        "outputId": "b2f5bdae-3bea-4e57-acae-559f9a43722c"
      },
      "execution_count": 17,
      "outputs": [
        {
          "output_type": "execute_result",
          "data": {
            "text/plain": [
              "((4, 8), (4, 8), (4, 8))"
            ]
          },
          "metadata": {},
          "execution_count": 17
        }
      ]
    },
    {
      "cell_type": "code",
      "source": [
        "print(\"Q\\n\", q)\n",
        "print(\"K\\n\", k)\n",
        "print(\"V\\n\", v)"
      ],
      "metadata": {
        "colab": {
          "base_uri": "https://localhost:8080/"
        },
        "id": "wP3re4n_UvcM",
        "outputId": "b0016439-0680-47b2-c6a8-d18123a40390"
      },
      "execution_count": 18,
      "outputs": [
        {
          "output_type": "stream",
          "name": "stdout",
          "text": [
            "Q\n",
            " [[ 0.53820015  1.80416676 -1.34248699 -0.36214475  0.1303005  -1.02177929\n",
            "   0.03665372  0.17346662]\n",
            " [ 1.21134527 -0.01934549  0.6875044   1.50394237  0.65952213  0.56290001\n",
            "   1.54096862 -1.43568218]\n",
            " [ 0.65182499 -2.3044433   1.09837747 -0.37850361 -0.8274594  -0.65013766\n",
            "  -0.83589873  1.1313225 ]\n",
            " [-0.59179314  0.43646004  0.13665086 -0.42920879 -0.10133618 -1.24431013\n",
            "   1.42459808 -0.95380103]]\n",
            "K\n",
            " [[-5.73049578e-01 -4.59145700e-01  2.38540142e-03  4.18804306e-01\n",
            "   9.85054998e-01 -6.20143800e-01  8.47371978e-02  2.77133270e-01]\n",
            " [ 7.14948872e-01  7.59209357e-04  6.13392066e-01 -6.83964359e-01\n",
            "  -1.41002772e+00  8.63622898e-02  7.40096721e-01 -6.20817082e-01]\n",
            " [ 7.50317524e-01  9.75100509e-01  2.78897509e-01  1.08261182e+00\n",
            "   8.84488268e-01  7.05650607e-01  1.54110192e+00 -4.08147413e-01]\n",
            " [ 1.05605551e-01 -1.60007998e+00  7.25271394e-01  2.09287590e-01\n",
            "  -1.70832185e+00 -8.54128419e-01 -1.04649239e+00 -5.23076264e-01]]\n",
            "V\n",
            " [[ 0.86999098  0.58758347 -0.41277314 -0.69313789  1.38996567  1.01964881\n",
            "  -1.13234405  0.37598487]\n",
            " [-0.22049108 -0.90656946  0.0239171   0.12476759  0.42407551 -1.56933047\n",
            "  -1.35883448 -0.71948044]\n",
            " [-2.16953254  0.67287326 -1.06313237  1.0912228  -0.90646364 -0.48825703\n",
            "  -1.83209548 -1.14933757]\n",
            " [-0.62517028  0.29100006 -1.41821167  0.87426955 -0.14297026  0.20104746\n",
            "   1.53413206 -0.28578536]]\n"
          ]
        }
      ]
    },
    {
      "cell_type": "markdown",
      "source": [
        "## **Self-Attention**"
      ],
      "metadata": {
        "id": "47hIWtCqVKFv"
      }
    },
    {
      "cell_type": "code",
      "source": [
        "np.matmul(q, k.T)"
      ],
      "metadata": {
        "colab": {
          "base_uri": "https://localhost:8080/"
        },
        "id": "eJQABnPIU6Yy",
        "outputId": "0dfb896c-6394-45d2-b10c-c78c7f2f5392"
      },
      "execution_count": 19,
      "outputs": [
        {
          "output_type": "execute_result",
          "data": {
            "text/plain": [
              "array([[-0.47847838, -0.54215569,  0.77650372, -3.35839257],\n",
              "       [-0.0204923 ,  1.40953271,  6.65126881, -1.49684276],\n",
              "       [ 0.35942954,  1.18649407, -4.80202552,  6.72539732],\n",
              "       [ 0.4875155 ,  1.63651529,  1.17206811, -0.50759164]])"
            ]
          },
          "metadata": {},
          "execution_count": 19
        }
      ]
    },
    {
      "cell_type": "code",
      "source": [
        "q.var(), k.var(), np.matmul(q, k.T).var()"
      ],
      "metadata": {
        "colab": {
          "base_uri": "https://localhost:8080/"
        },
        "id": "b9mSmF5GVPdX",
        "outputId": "2b272ceb-9db0-495e-d773-616cf8a0f1c2"
      },
      "execution_count": 20,
      "outputs": [
        {
          "output_type": "execute_result",
          "data": {
            "text/plain": [
              "(np.float64(0.9789226622778145),\n",
              " np.float64(0.6614572848289667),\n",
              " np.float64(8.122363429546745))"
            ]
          },
          "metadata": {},
          "execution_count": 20
        }
      ]
    },
    {
      "cell_type": "code",
      "source": [
        "scaled = np.matmul(q, k.T) / math.sqrt(d_k)"
      ],
      "metadata": {
        "id": "2O3v8LAbVhuy"
      },
      "execution_count": 21,
      "outputs": []
    },
    {
      "cell_type": "code",
      "source": [
        "q.var(), k.var(), scaled.var()"
      ],
      "metadata": {
        "colab": {
          "base_uri": "https://localhost:8080/"
        },
        "id": "2lb6HP0nVvJH",
        "outputId": "85ad2fec-b14e-49e9-9f5a-7aec122ff638"
      },
      "execution_count": 23,
      "outputs": [
        {
          "output_type": "execute_result",
          "data": {
            "text/plain": [
              "(np.float64(0.9789226622778145),\n",
              " np.float64(0.6614572848289667),\n",
              " np.float64(1.0152954286933427))"
            ]
          },
          "metadata": {},
          "execution_count": 23
        }
      ]
    },
    {
      "cell_type": "markdown",
      "source": [
        "## **Masking**"
      ],
      "metadata": {
        "id": "rO6YwftJV1Hd"
      }
    },
    {
      "cell_type": "code",
      "source": [
        "mask = np.tril(np.ones((L, L)))"
      ],
      "metadata": {
        "id": "1fWeKAmcVwHD"
      },
      "execution_count": 24,
      "outputs": []
    },
    {
      "cell_type": "code",
      "source": [
        "mask"
      ],
      "metadata": {
        "colab": {
          "base_uri": "https://localhost:8080/"
        },
        "id": "D_GujETYWAsl",
        "outputId": "90a5b85e-ae4e-4ddd-e95a-759e033f2b0b"
      },
      "execution_count": 25,
      "outputs": [
        {
          "output_type": "execute_result",
          "data": {
            "text/plain": [
              "array([[1., 0., 0., 0.],\n",
              "       [1., 1., 0., 0.],\n",
              "       [1., 1., 1., 0.],\n",
              "       [1., 1., 1., 1.]])"
            ]
          },
          "metadata": {},
          "execution_count": 25
        }
      ]
    },
    {
      "cell_type": "code",
      "source": [
        "mask[mask == 0] = -np.inf\n",
        "mask[mask == 1] = 0"
      ],
      "metadata": {
        "id": "KcBg4Gb5WBIL"
      },
      "execution_count": 27,
      "outputs": []
    },
    {
      "cell_type": "code",
      "source": [
        "mask"
      ],
      "metadata": {
        "colab": {
          "base_uri": "https://localhost:8080/"
        },
        "id": "70vGutT7WQLb",
        "outputId": "e03c0888-cf6a-4de5-e957-91473d822f86"
      },
      "execution_count": 28,
      "outputs": [
        {
          "output_type": "execute_result",
          "data": {
            "text/plain": [
              "array([[  0., -inf, -inf, -inf],\n",
              "       [  0.,   0., -inf, -inf],\n",
              "       [  0.,   0.,   0., -inf],\n",
              "       [  0.,   0.,   0.,   0.]])"
            ]
          },
          "metadata": {},
          "execution_count": 28
        }
      ]
    },
    {
      "cell_type": "code",
      "source": [
        "scaled + mask"
      ],
      "metadata": {
        "colab": {
          "base_uri": "https://localhost:8080/"
        },
        "id": "nl8273OIWWnC",
        "outputId": "d3d702a1-e722-40dc-b9ad-6285ec997a09"
      },
      "execution_count": 29,
      "outputs": [
        {
          "output_type": "execute_result",
          "data": {
            "text/plain": [
              "array([[-0.16916765,        -inf,        -inf,        -inf],\n",
              "       [-0.00724512,  0.49834507,        -inf,        -inf],\n",
              "       [ 0.12707753,  0.419489  , -1.6977724 ,        -inf],\n",
              "       [ 0.17236276,  0.57859553,  0.41438866, -0.17946074]])"
            ]
          },
          "metadata": {},
          "execution_count": 29
        }
      ]
    },
    {
      "cell_type": "markdown",
      "source": [
        "## **Softmax**"
      ],
      "metadata": {
        "id": "HG9Ni6zfWg8Q"
      }
    },
    {
      "cell_type": "code",
      "source": [
        "def softmax(x):\n",
        "  return (np.exp(x).T / np.sum(np.exp(x), axis = -1)).T"
      ],
      "metadata": {
        "id": "fwV52UmNWYy4"
      },
      "execution_count": 30,
      "outputs": []
    },
    {
      "cell_type": "code",
      "source": [
        "attention = softmax(scaled + mask)"
      ],
      "metadata": {
        "id": "BWUig5k7WqYo"
      },
      "execution_count": 31,
      "outputs": []
    },
    {
      "cell_type": "code",
      "source": [
        "attention"
      ],
      "metadata": {
        "colab": {
          "base_uri": "https://localhost:8080/"
        },
        "id": "laoYSSOzWuWe",
        "outputId": "6b3c6eba-26e5-4c77-b4fa-ac6157cfb91d"
      },
      "execution_count": 32,
      "outputs": [
        {
          "output_type": "execute_result",
          "data": {
            "text/plain": [
              "array([[1.        , 0.        , 0.        , 0.        ],\n",
              "       [0.37622786, 0.62377214, 0.        , 0.        ],\n",
              "       [0.3998567 , 0.53566967, 0.06447363, 0.        ],\n",
              "       [0.22329486, 0.33519951, 0.28443907, 0.15706656]])"
            ]
          },
          "metadata": {},
          "execution_count": 32
        }
      ]
    },
    {
      "cell_type": "code",
      "source": [
        "new_v = np.matmul(attention, v)"
      ],
      "metadata": {
        "id": "jrrMgeIRWvCn"
      },
      "execution_count": 33,
      "outputs": []
    },
    {
      "cell_type": "code",
      "source": [
        "new_v"
      ],
      "metadata": {
        "colab": {
          "base_uri": "https://localhost:8080/"
        },
        "id": "j2-FdYiKXFs5",
        "outputId": "7d45d41b-f371-4efe-b726-eb581d4d3295"
      },
      "execution_count": 34,
      "outputs": [
        {
          "output_type": "execute_result",
          "data": {
            "text/plain": [
              "array([[ 0.86999098,  0.58758347, -0.41277314, -0.69313789,  1.38996567,\n",
              "         1.01964881, -1.13234405,  0.37598487],\n",
              "       [ 0.18977865, -0.34442751, -0.14037793, -0.18295123,  0.7874703 ,\n",
              "        -0.59528435, -1.27362247, -0.30733588],\n",
              "       [ 0.0898837 , -0.20729   , -0.22078244, -0.13996652,  0.72450847,\n",
              "        -0.46440904, -1.29878362, -0.30916575],\n",
              "       [-0.59493714,  0.06442054, -0.60930312,  0.33475281,  0.17223258,\n",
              "        -0.40565801, -0.98848595, -0.52901783]])"
            ]
          },
          "metadata": {},
          "execution_count": 34
        }
      ]
    },
    {
      "cell_type": "markdown",
      "source": [
        "## **Scaled Dot Product Attention Mechanism**"
      ],
      "metadata": {
        "id": "3L7Id2jDXVT_"
      }
    },
    {
      "cell_type": "code",
      "source": [
        "def softmax(x):\n",
        "  return (np.exp(x).T / np.sum(np.exp(x), axis = -1)).T\n",
        "\n",
        "def scaled_dot_product_attention(q, k, v, mask = None):\n",
        "  d_k = q.shape[-1]\n",
        "  scaled = np.matmul(q, k.T) / math.sqrt(d_k)\n",
        "  if mask is not None:\n",
        "    scaled = scaled + mask\n",
        "  attention = softmax(scaled)\n",
        "  out = np.matmul(attention, v)\n",
        "  return out, attention"
      ],
      "metadata": {
        "id": "nw7V7YSsXJwM"
      },
      "execution_count": 37,
      "outputs": []
    },
    {
      "cell_type": "code",
      "source": [
        "values, attention = scaled_dot_product_attention(q, k, v, mask = None)"
      ],
      "metadata": {
        "id": "r8tA2GGqXt3e"
      },
      "execution_count": 38,
      "outputs": []
    },
    {
      "cell_type": "code",
      "source": [
        "values, attention"
      ],
      "metadata": {
        "colab": {
          "base_uri": "https://localhost:8080/"
        },
        "id": "KhFjxFD5YNvw",
        "outputId": "944b61a0-12de-4434-d125-8d08694a351d"
      },
      "execution_count": 40,
      "outputs": [
        {
          "output_type": "execute_result",
          "data": {
            "text/plain": [
              "(array([[-0.75756644,  0.2193663 , -0.6564718 ,  0.37083531,  0.087303  ,\n",
              "         -0.30867658, -1.22182351, -0.57009652],\n",
              "        [-1.64983562,  0.46097359, -0.90102168,  0.83703014, -0.54814834,\n",
              "         -0.47925294, -1.58033824, -0.95046293],\n",
              "        [-0.47608974,  0.1871123 , -1.16856143,  0.66281298,  0.03788909,\n",
              "          0.06230742,  0.94350168, -0.2906599 ],\n",
              "        [-0.59493714,  0.06442054, -0.60930312,  0.33475281,  0.17223258,\n",
              "         -0.40565801, -0.98848595, -0.52901783]]),\n",
              " array([[0.25657806, 0.25086617, 0.39986865, 0.09268712],\n",
              "        [0.07230754, 0.11988328, 0.76490541, 0.04290377],\n",
              "        [0.08336553, 0.11168097, 0.01344201, 0.79151149],\n",
              "        [0.22329486, 0.33519951, 0.28443907, 0.15706656]]))"
            ]
          },
          "metadata": {},
          "execution_count": 40
        }
      ]
    },
    {
      "cell_type": "code",
      "source": [
        "values, attention = scaled_dot_product_attention(q, k, v, mask = mask)"
      ],
      "metadata": {
        "id": "7iFrXzZPYOFA"
      },
      "execution_count": 43,
      "outputs": []
    },
    {
      "cell_type": "code",
      "source": [
        "values, attention"
      ],
      "metadata": {
        "colab": {
          "base_uri": "https://localhost:8080/"
        },
        "id": "LmaS_v5jYd9g",
        "outputId": "a0728d9a-c81b-4746-dc06-2b026920dd53"
      },
      "execution_count": 44,
      "outputs": [
        {
          "output_type": "execute_result",
          "data": {
            "text/plain": [
              "(array([[ 0.86999098,  0.58758347, -0.41277314, -0.69313789,  1.38996567,\n",
              "          1.01964881, -1.13234405,  0.37598487],\n",
              "        [ 0.18977865, -0.34442751, -0.14037793, -0.18295123,  0.7874703 ,\n",
              "         -0.59528435, -1.27362247, -0.30733588],\n",
              "        [ 0.0898837 , -0.20729   , -0.22078244, -0.13996652,  0.72450847,\n",
              "         -0.46440904, -1.29878362, -0.30916575],\n",
              "        [-0.59493714,  0.06442054, -0.60930312,  0.33475281,  0.17223258,\n",
              "         -0.40565801, -0.98848595, -0.52901783]]),\n",
              " array([[1.        , 0.        , 0.        , 0.        ],\n",
              "        [0.37622786, 0.62377214, 0.        , 0.        ],\n",
              "        [0.3998567 , 0.53566967, 0.06447363, 0.        ],\n",
              "        [0.22329486, 0.33519951, 0.28443907, 0.15706656]]))"
            ]
          },
          "metadata": {},
          "execution_count": 44
        }
      ]
    },
    {
      "cell_type": "code",
      "source": [],
      "metadata": {
        "id": "9MRRGfIXYfi5"
      },
      "execution_count": null,
      "outputs": []
    }
  ]
}