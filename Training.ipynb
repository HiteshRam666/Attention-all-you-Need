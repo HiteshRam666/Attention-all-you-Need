{
  "nbformat": 4,
  "nbformat_minor": 0,
  "metadata": {
    "colab": {
      "provenance": [],
      "gpuType": "T4"
    },
    "kernelspec": {
      "name": "python3",
      "display_name": "Python 3"
    },
    "language_info": {
      "name": "python"
    },
    "accelerator": "GPU",
    "widgets": {
      "application/vnd.jupyter.widget-state+json": {
        "efe35265faf14321b5e27593aa29eb85": {
          "model_module": "@jupyter-widgets/controls",
          "model_name": "HBoxModel",
          "model_module_version": "1.5.0",
          "state": {
            "_dom_classes": [],
            "_model_module": "@jupyter-widgets/controls",
            "_model_module_version": "1.5.0",
            "_model_name": "HBoxModel",
            "_view_count": null,
            "_view_module": "@jupyter-widgets/controls",
            "_view_module_version": "1.5.0",
            "_view_name": "HBoxView",
            "box_style": "",
            "children": [
              "IPY_MODEL_ba23241089f7433aaf8ed53636df9139",
              "IPY_MODEL_689376d118454eb3a9928061bc1cf340",
              "IPY_MODEL_efb61fc52da54cdf824330b9537f3089"
            ],
            "layout": "IPY_MODEL_6bfc0c8119cb402f9b38a5cc476236eb"
          }
        },
        "ba23241089f7433aaf8ed53636df9139": {
          "model_module": "@jupyter-widgets/controls",
          "model_name": "HTMLModel",
          "model_module_version": "1.5.0",
          "state": {
            "_dom_classes": [],
            "_model_module": "@jupyter-widgets/controls",
            "_model_module_version": "1.5.0",
            "_model_name": "HTMLModel",
            "_view_count": null,
            "_view_module": "@jupyter-widgets/controls",
            "_view_module_version": "1.5.0",
            "_view_name": "HTMLView",
            "description": "",
            "description_tooltip": null,
            "layout": "IPY_MODEL_044e28dba0c04accb0d2485b1cdd2e4c",
            "placeholder": "​",
            "style": "IPY_MODEL_fd8d610c20d940e88bd4c8e30f7cca58",
            "value": "100%"
          }
        },
        "689376d118454eb3a9928061bc1cf340": {
          "model_module": "@jupyter-widgets/controls",
          "model_name": "FloatProgressModel",
          "model_module_version": "1.5.0",
          "state": {
            "_dom_classes": [],
            "_model_module": "@jupyter-widgets/controls",
            "_model_module_version": "1.5.0",
            "_model_name": "FloatProgressModel",
            "_view_count": null,
            "_view_module": "@jupyter-widgets/controls",
            "_view_module_version": "1.5.0",
            "_view_name": "ProgressView",
            "bar_style": "success",
            "description": "",
            "description_tooltip": null,
            "layout": "IPY_MODEL_f338079f9fe34bfeb3421756f42ca979",
            "max": 10,
            "min": 0,
            "orientation": "horizontal",
            "style": "IPY_MODEL_0dcb85c45caf46fdac341a829e4c0b6a",
            "value": 10
          }
        },
        "efb61fc52da54cdf824330b9537f3089": {
          "model_module": "@jupyter-widgets/controls",
          "model_name": "HTMLModel",
          "model_module_version": "1.5.0",
          "state": {
            "_dom_classes": [],
            "_model_module": "@jupyter-widgets/controls",
            "_model_module_version": "1.5.0",
            "_model_name": "HTMLModel",
            "_view_count": null,
            "_view_module": "@jupyter-widgets/controls",
            "_view_module_version": "1.5.0",
            "_view_name": "HTMLView",
            "description": "",
            "description_tooltip": null,
            "layout": "IPY_MODEL_95324e0650314f278e8ba7d9a79639c9",
            "placeholder": "​",
            "style": "IPY_MODEL_38b01cff39aa4db1b169b111688f4b8d",
            "value": " 10/10 [33:44&lt;00:00, 198.18s/it]"
          }
        },
        "6bfc0c8119cb402f9b38a5cc476236eb": {
          "model_module": "@jupyter-widgets/base",
          "model_name": "LayoutModel",
          "model_module_version": "1.2.0",
          "state": {
            "_model_module": "@jupyter-widgets/base",
            "_model_module_version": "1.2.0",
            "_model_name": "LayoutModel",
            "_view_count": null,
            "_view_module": "@jupyter-widgets/base",
            "_view_module_version": "1.2.0",
            "_view_name": "LayoutView",
            "align_content": null,
            "align_items": null,
            "align_self": null,
            "border": null,
            "bottom": null,
            "display": null,
            "flex": null,
            "flex_flow": null,
            "grid_area": null,
            "grid_auto_columns": null,
            "grid_auto_flow": null,
            "grid_auto_rows": null,
            "grid_column": null,
            "grid_gap": null,
            "grid_row": null,
            "grid_template_areas": null,
            "grid_template_columns": null,
            "grid_template_rows": null,
            "height": null,
            "justify_content": null,
            "justify_items": null,
            "left": null,
            "margin": null,
            "max_height": null,
            "max_width": null,
            "min_height": null,
            "min_width": null,
            "object_fit": null,
            "object_position": null,
            "order": null,
            "overflow": null,
            "overflow_x": null,
            "overflow_y": null,
            "padding": null,
            "right": null,
            "top": null,
            "visibility": null,
            "width": null
          }
        },
        "044e28dba0c04accb0d2485b1cdd2e4c": {
          "model_module": "@jupyter-widgets/base",
          "model_name": "LayoutModel",
          "model_module_version": "1.2.0",
          "state": {
            "_model_module": "@jupyter-widgets/base",
            "_model_module_version": "1.2.0",
            "_model_name": "LayoutModel",
            "_view_count": null,
            "_view_module": "@jupyter-widgets/base",
            "_view_module_version": "1.2.0",
            "_view_name": "LayoutView",
            "align_content": null,
            "align_items": null,
            "align_self": null,
            "border": null,
            "bottom": null,
            "display": null,
            "flex": null,
            "flex_flow": null,
            "grid_area": null,
            "grid_auto_columns": null,
            "grid_auto_flow": null,
            "grid_auto_rows": null,
            "grid_column": null,
            "grid_gap": null,
            "grid_row": null,
            "grid_template_areas": null,
            "grid_template_columns": null,
            "grid_template_rows": null,
            "height": null,
            "justify_content": null,
            "justify_items": null,
            "left": null,
            "margin": null,
            "max_height": null,
            "max_width": null,
            "min_height": null,
            "min_width": null,
            "object_fit": null,
            "object_position": null,
            "order": null,
            "overflow": null,
            "overflow_x": null,
            "overflow_y": null,
            "padding": null,
            "right": null,
            "top": null,
            "visibility": null,
            "width": null
          }
        },
        "fd8d610c20d940e88bd4c8e30f7cca58": {
          "model_module": "@jupyter-widgets/controls",
          "model_name": "DescriptionStyleModel",
          "model_module_version": "1.5.0",
          "state": {
            "_model_module": "@jupyter-widgets/controls",
            "_model_module_version": "1.5.0",
            "_model_name": "DescriptionStyleModel",
            "_view_count": null,
            "_view_module": "@jupyter-widgets/base",
            "_view_module_version": "1.2.0",
            "_view_name": "StyleView",
            "description_width": ""
          }
        },
        "f338079f9fe34bfeb3421756f42ca979": {
          "model_module": "@jupyter-widgets/base",
          "model_name": "LayoutModel",
          "model_module_version": "1.2.0",
          "state": {
            "_model_module": "@jupyter-widgets/base",
            "_model_module_version": "1.2.0",
            "_model_name": "LayoutModel",
            "_view_count": null,
            "_view_module": "@jupyter-widgets/base",
            "_view_module_version": "1.2.0",
            "_view_name": "LayoutView",
            "align_content": null,
            "align_items": null,
            "align_self": null,
            "border": null,
            "bottom": null,
            "display": null,
            "flex": null,
            "flex_flow": null,
            "grid_area": null,
            "grid_auto_columns": null,
            "grid_auto_flow": null,
            "grid_auto_rows": null,
            "grid_column": null,
            "grid_gap": null,
            "grid_row": null,
            "grid_template_areas": null,
            "grid_template_columns": null,
            "grid_template_rows": null,
            "height": null,
            "justify_content": null,
            "justify_items": null,
            "left": null,
            "margin": null,
            "max_height": null,
            "max_width": null,
            "min_height": null,
            "min_width": null,
            "object_fit": null,
            "object_position": null,
            "order": null,
            "overflow": null,
            "overflow_x": null,
            "overflow_y": null,
            "padding": null,
            "right": null,
            "top": null,
            "visibility": null,
            "width": null
          }
        },
        "0dcb85c45caf46fdac341a829e4c0b6a": {
          "model_module": "@jupyter-widgets/controls",
          "model_name": "ProgressStyleModel",
          "model_module_version": "1.5.0",
          "state": {
            "_model_module": "@jupyter-widgets/controls",
            "_model_module_version": "1.5.0",
            "_model_name": "ProgressStyleModel",
            "_view_count": null,
            "_view_module": "@jupyter-widgets/base",
            "_view_module_version": "1.2.0",
            "_view_name": "StyleView",
            "bar_color": null,
            "description_width": ""
          }
        },
        "95324e0650314f278e8ba7d9a79639c9": {
          "model_module": "@jupyter-widgets/base",
          "model_name": "LayoutModel",
          "model_module_version": "1.2.0",
          "state": {
            "_model_module": "@jupyter-widgets/base",
            "_model_module_version": "1.2.0",
            "_model_name": "LayoutModel",
            "_view_count": null,
            "_view_module": "@jupyter-widgets/base",
            "_view_module_version": "1.2.0",
            "_view_name": "LayoutView",
            "align_content": null,
            "align_items": null,
            "align_self": null,
            "border": null,
            "bottom": null,
            "display": null,
            "flex": null,
            "flex_flow": null,
            "grid_area": null,
            "grid_auto_columns": null,
            "grid_auto_flow": null,
            "grid_auto_rows": null,
            "grid_column": null,
            "grid_gap": null,
            "grid_row": null,
            "grid_template_areas": null,
            "grid_template_columns": null,
            "grid_template_rows": null,
            "height": null,
            "justify_content": null,
            "justify_items": null,
            "left": null,
            "margin": null,
            "max_height": null,
            "max_width": null,
            "min_height": null,
            "min_width": null,
            "object_fit": null,
            "object_position": null,
            "order": null,
            "overflow": null,
            "overflow_x": null,
            "overflow_y": null,
            "padding": null,
            "right": null,
            "top": null,
            "visibility": null,
            "width": null
          }
        },
        "38b01cff39aa4db1b169b111688f4b8d": {
          "model_module": "@jupyter-widgets/controls",
          "model_name": "DescriptionStyleModel",
          "model_module_version": "1.5.0",
          "state": {
            "_model_module": "@jupyter-widgets/controls",
            "_model_module_version": "1.5.0",
            "_model_name": "DescriptionStyleModel",
            "_view_count": null,
            "_view_module": "@jupyter-widgets/base",
            "_view_module_version": "1.2.0",
            "_view_name": "StyleView",
            "description_width": ""
          }
        }
      }
    }
  },
  "cells": [
    {
      "cell_type": "code",
      "execution_count": 1,
      "metadata": {
        "id": "ZMWIDOPiWIBB"
      },
      "outputs": [],
      "source": [
        "import torch\n",
        "import numpy as np"
      ]
    },
    {
      "cell_type": "code",
      "source": [
        "from google.colab import drive\n",
        "drive.mount('/content/drive')"
      ],
      "metadata": {
        "colab": {
          "base_uri": "https://localhost:8080/"
        },
        "id": "1GdpH49qWQ6Y",
        "outputId": "97eb0de8-c2af-448e-ac5a-5fc6e74a550a"
      },
      "execution_count": 2,
      "outputs": [
        {
          "output_type": "stream",
          "name": "stdout",
          "text": [
            "Drive already mounted at /content/drive; to attempt to forcibly remount, call drive.mount(\"/content/drive\", force_remount=True).\n"
          ]
        }
      ]
    },
    {
      "cell_type": "code",
      "source": [
        "import zipfile\n",
        "\n",
        "en_zip = \"/content/drive/MyDrive/Datas/train.en.zip\"\n",
        "hi_zip = \"/content/drive/MyDrive/Datas/train.hi.zip\"\n",
        "extract_path = \"/content/\""
      ],
      "metadata": {
        "id": "CfMN7FtQWZZJ"
      },
      "execution_count": 3,
      "outputs": []
    },
    {
      "cell_type": "code",
      "source": [
        "with zipfile.ZipFile(en_zip, 'r') as zip_ref:\n",
        "    zip_ref.extractall(extract_path)"
      ],
      "metadata": {
        "id": "l25w5-XyWqaF"
      },
      "execution_count": 4,
      "outputs": []
    },
    {
      "cell_type": "code",
      "source": [
        "with zipfile.ZipFile(hi_zip, 'r') as zip_ref:\n",
        "    zip_ref.extractall(extract_path)"
      ],
      "metadata": {
        "id": "0M5aznEHW0i-"
      },
      "execution_count": 5,
      "outputs": []
    },
    {
      "cell_type": "code",
      "source": [
        "english_file = '/content/train.en'\n",
        "hindi_file = '/content/train.hi'\n",
        "\n",
        "START_TOKEN = '<start>'\n",
        "PADDING_TOKEN = '<pad>'\n",
        "END_TOKEN = '<end>'\n",
        "\n",
        "english_vocabulary = [START_TOKEN, ' ', '!', '\"', '#', '$', '%', '&', \"'\", '(', ')', '*', '+', ',', '-', '.', '/',\n",
        "                        '0', '1', '2', '3', '4', '5', '6', '7', '8', '9',\n",
        "                        ':', '<', '=', '>', '?', '@',\n",
        "                        'A', 'B', 'C', 'D', 'E', 'F', 'G', 'H', 'I', 'J', 'K', 'L',\n",
        "                        'M', 'N', 'O', 'P', 'Q', 'R', 'S', 'T', 'U', 'V', 'W', 'X',\n",
        "                        'Y', 'Z','[', '\\\\', ']', '^', '_', '`',\n",
        "                        'a', 'b', 'c', 'd', 'e', 'f', 'g', 'h', 'i', 'j', 'k', 'l',\n",
        "                        'm', 'n', 'o', 'p', 'q', 'r', 's', 't', 'u', 'v', 'w', 'x',\n",
        "                        'y', 'z',\n",
        "                        '{', '|', '}', '~', PADDING_TOKEN, END_TOKEN]\n",
        "\n",
        "hindi_vocabulary = [\n",
        "    START_TOKEN, ' ', '!', '\"', '#', '$', '%', '&', \"'\", '(', ')', '*', '+', ',', '-', '.', '/',\n",
        "    '0', '1', '2', '3', '4', '5', '6', '7', '8', '9',\n",
        "    ':', '<', '=', '>', '?', '@',\n",
        "    '[', '\\\\', ']', '^', '_', '`',\n",
        "    'अ', 'आ', 'इ', 'ई', 'उ', 'ऊ', 'ऋ', 'ॠ', 'ऌ', 'ॡ', 'ए', 'ऐ', 'ओ', 'औ', 'अं', 'अः',\n",
        "    'क', 'ख', 'ग', 'घ', 'ङ',\n",
        "    'च', 'छ', 'ज', 'झ', 'ञ',\n",
        "    'ट', 'ठ', 'ड', 'ढ', 'ण',\n",
        "    'त', 'थ', 'द', 'ध', 'न',\n",
        "    'प', 'फ', 'ब', 'भ', 'म',\n",
        "    'य', 'र', 'ल', 'व',\n",
        "    'श', 'ष', 'स', 'ह',\n",
        "    'क़', 'ख़', 'ग़', 'ज़', 'ड़', 'ढ़', 'फ़', 'य़',\n",
        "    'ा', 'ि', 'ी', 'ु', 'ू', 'ृ', 'ॄ', 'े', 'ै', 'ो', 'ौ', 'ँ', 'ं', 'ः', '्',\n",
        "    '़', 'ऽ', 'ॐ', '॑', '॒',\n",
        "    '०', '१', '२', '३', '४', '५', '६', '७', '८', '९',\n",
        "    PADDING_TOKEN, END_TOKEN\n",
        "]"
      ],
      "metadata": {
        "id": "euG6WXnDW-H9"
      },
      "execution_count": 6,
      "outputs": []
    },
    {
      "cell_type": "code",
      "source": [
        "index_to_hindi = {k:v for k, v in enumerate(hindi_vocabulary)}\n",
        "hindi_to_index = {v:k for k, v in enumerate(hindi_vocabulary)}\n",
        "index_to_english = {k:v for k, v in enumerate(english_vocabulary)}\n",
        "english_to_index = {v:k for k, v in enumerate(english_vocabulary)}"
      ],
      "metadata": {
        "id": "2bPtDFyOXaNS"
      },
      "execution_count": 7,
      "outputs": []
    },
    {
      "cell_type": "code",
      "source": [
        "with open(english_file, 'r') as file:\n",
        "    english_sentences = file.readlines()\n",
        "with open(hindi_file, 'r') as file:\n",
        "    hindi_sentences = file.readlines()"
      ],
      "metadata": {
        "id": "0UibIWvcXaUG"
      },
      "execution_count": 8,
      "outputs": []
    },
    {
      "cell_type": "code",
      "source": [
        "# Limit Number of sentences\n",
        "TOTAL_SENTENCES = 100000\n",
        "english_sentences = english_sentences[:TOTAL_SENTENCES]\n",
        "hindi_sentences = hindi_sentences[:TOTAL_SENTENCES]\n",
        "english_sentences = [sentence.rstrip('\\n') for sentence in english_sentences]\n",
        "hindi_sentences = [sentence.rstrip('\\n') for sentence in hindi_sentences]"
      ],
      "metadata": {
        "id": "bAMV4pEcXtmR"
      },
      "execution_count": 9,
      "outputs": []
    },
    {
      "cell_type": "code",
      "source": [
        "english_sentences[:10]"
      ],
      "metadata": {
        "colab": {
          "base_uri": "https://localhost:8080/"
        },
        "id": "PHuOYJEWYFzd",
        "outputId": "9eeba5ba-e439-4ae3-e1d4-9f9ef08bc331"
      },
      "execution_count": 10,
      "outputs": [
        {
          "output_type": "execute_result",
          "data": {
            "text/plain": [
              "['In reply, Pakistan got off to a solid start.',\n",
              " 'The European Union has seven principal decision-making bodies, its institutions: the European Parliament, the European Council, the Council of the European Union, the European Commission, the Court of Justice of the European Union, the European Central Bank and the European Court of Auditors.',\n",
              " 'The Congress leader represents Sivaganga Lok Sabha segment from Tamil Nadu.',\n",
              " 'Prompt the user about connection attempts',\n",
              " 'Further, the Minister announced that Deposit Insurance and Credit Guarantee Corporation (DICGC) has been permitted to increase Deposit Insurance coverage to Rs.',\n",
              " 'Therefore, brothers, be more diligent to make your calling and election sure. For if you do these things, you will never stumble.',\n",
              " 'The review committee meeting chaired by the District Judges will be attended by Collectors, SPs, Superintendents of jails and Secretary of District Legal Services Authority.',\n",
              " 'Police is present on the spot.',\n",
              " 'Prime Minister Narendra Modi is slated to campaign for BJP in second phase of Assembly elections in Udhampur and Poonch district of Jammu and Kashmir tomorrow',\n",
              " 'It has a battery backup of 3050mAh.']"
            ]
          },
          "metadata": {},
          "execution_count": 10
        }
      ]
    },
    {
      "cell_type": "code",
      "source": [
        "hindi_sentences[:10]"
      ],
      "metadata": {
        "colab": {
          "base_uri": "https://localhost:8080/"
        },
        "id": "bdh6k6b0YVdl",
        "outputId": "18850ffd-93e8-437a-c163-40ab3b289637"
      },
      "execution_count": 11,
      "outputs": [
        {
          "output_type": "execute_result",
          "data": {
            "text/plain": [
              "['जिसके जवाब में पाक ने अच्छी शुरुआत की थी.',\n",
              " 'यूरोपीय संघ के महत्वपूर्ण संस्थानों में यूरोपियन कमीशन, यूरोपीय संसद, यूरोपीय संघ परिषद, यूरोपीय न्यायलय एवं यूरोपियन सेंट्रल बैंक इत्यादि शामिल हैं।',\n",
              " 'कांग्रेस नेता तमिलनाडु से शिवगंगा लोकसभा क्षेत्र का प्रतिनिधित्व करते हैं.',\n",
              " 'संबंधन प्रयास के बारे में उपयोक्ता को प्रांप्ट करें',\n",
              " 'वित्त मंत्री ने घोषणा कि जमा बीमा और ऋण गारंटी निगम (डीआईसीजीसी) को जमा राशि बीमा का दायरा, जो इस समय 1 लाख रुपये है उसे बढ़ाकर प्रति जमाकर्ता 5 लाख रुपये करने की अनुमति प्रदान कर दी गई है।',\n",
              " 'इस कारण हे भाइयों, अपने बुलाए जाने, और चुन लिये जाने को सिद्ध करने का भली भांति यत्न करते जाओ, क्योंकि यदि ऐसा करोगे, तो कभी भी ठोकर न खाओगे।',\n",
              " 'समिति में जिला एवं सत्र न्यायाधीश, कलेक्टर, पुलिस अधीक्षक व जिला विधिक सेवा प्राधिकरण के सचिव शामिल रहते हैं।',\n",
              " 'पुलिस मौके पर मौजूद है।',\n",
              " 'जम्मू एवं कश्मीर विधानसभा के लिए दूसरे चरण के तहत होने वाले मतदान के लिए प्रधानमंत्री नरेंद्र मोदी भारतीय जनता पार्टी (भाजपा) के पक्ष में शुक्रवार को यहां रैलियां करेंगे।',\n",
              " 'और 3050एमएएच की दमदार बैटरी से लैस है।']"
            ]
          },
          "metadata": {},
          "execution_count": 11
        }
      ]
    },
    {
      "cell_type": "code",
      "source": [
        "max(len(x) for x in hindi_sentences), max(len(x) for x in english_sentences),"
      ],
      "metadata": {
        "colab": {
          "base_uri": "https://localhost:8080/"
        },
        "id": "3mOsEVh7YeJt",
        "outputId": "8d9b5bc2-bfc5-471b-9389-b9cf3773171f"
      },
      "execution_count": 12,
      "outputs": [
        {
          "output_type": "execute_result",
          "data": {
            "text/plain": [
              "(1584, 1363)"
            ]
          },
          "metadata": {},
          "execution_count": 12
        }
      ]
    },
    {
      "cell_type": "code",
      "source": [
        "max_sequence_length = 200\n",
        "\n",
        "def is_valid_tokens(sentence, vocab):\n",
        "    for token in list(set(sentence)):\n",
        "        if token not in vocab:\n",
        "            return False\n",
        "    return True\n",
        "\n",
        "def is_valid_length(sentence, max_sequence_length):\n",
        "    return len(list(sentence)) < (max_sequence_length - 1)\n",
        "\n",
        "valid_sentence_indicies = []\n",
        "for index in range(len(hindi_sentences)):\n",
        "    hindi_sentence, english_sentence = hindi_sentences[index], english_sentences[index]\n",
        "    if is_valid_length(hindi_sentence, max_sequence_length) \\\n",
        "      and is_valid_length(english_sentence, max_sequence_length) \\\n",
        "      and is_valid_tokens(hindi_sentence, hindi_vocabulary):\n",
        "        valid_sentence_indicies.append(index)\n",
        "\n",
        "print(f\"Number of sentences: {len(hindi_sentences)}\")\n",
        "print(f\"Number of valid sentences: {len(valid_sentence_indicies)}\")"
      ],
      "metadata": {
        "colab": {
          "base_uri": "https://localhost:8080/"
        },
        "id": "XIlFMOZ7YldR",
        "outputId": "723d087f-a639-4c01-c37e-d6498a61422a"
      },
      "execution_count": 13,
      "outputs": [
        {
          "output_type": "stream",
          "name": "stdout",
          "text": [
            "Number of sentences: 100000\n",
            "Number of valid sentences: 27103\n"
          ]
        }
      ]
    },
    {
      "cell_type": "code",
      "source": [
        "hindi_sentences = [hindi_sentences[i] for i in valid_sentence_indicies]\n",
        "english_sentences = [english_sentences[i] for i in valid_sentence_indicies]"
      ],
      "metadata": {
        "id": "xusVdblmZBZs"
      },
      "execution_count": 14,
      "outputs": []
    },
    {
      "cell_type": "code",
      "source": [
        "hindi_sentences[:3]"
      ],
      "metadata": {
        "colab": {
          "base_uri": "https://localhost:8080/"
        },
        "id": "fq9_BgSRZJmL",
        "outputId": "7af0b4fa-fef6-4c46-b430-046e4e4a62a6"
      },
      "execution_count": 15,
      "outputs": [
        {
          "output_type": "execute_result",
          "data": {
            "text/plain": [
              "['जिसके जवाब में पाक ने अच्छी शुरुआत की थी.',\n",
              " 'कांग्रेस नेता तमिलनाडु से शिवगंगा लोकसभा क्षेत्र का प्रतिनिधित्व करते हैं.',\n",
              " 'संबंधन प्रयास के बारे में उपयोक्ता को प्रांप्ट करें']"
            ]
          },
          "metadata": {},
          "execution_count": 15
        }
      ]
    },
    {
      "cell_type": "code",
      "source": [
        "from torch.utils.data import Dataset, DataLoader\n",
        "\n",
        "class TextDataset(Dataset):\n",
        "\n",
        "    def __init__(self, english_sentences, hindi_sentences):\n",
        "        self.english_sentences = english_sentences\n",
        "        self.hindi_sentences = hindi_sentences\n",
        "\n",
        "    def __len__(self):\n",
        "        return len(self.english_sentences)\n",
        "\n",
        "    def __getitem__(self, idx):\n",
        "        return self.english_sentences[idx], self.hindi_sentences[idx]"
      ],
      "metadata": {
        "id": "Zdo3_yzhZLJ8"
      },
      "execution_count": 16,
      "outputs": []
    },
    {
      "cell_type": "code",
      "source": [
        "dataset = TextDataset(english_sentences, hindi_sentences)"
      ],
      "metadata": {
        "id": "kmc3uD3fZOQ4"
      },
      "execution_count": 17,
      "outputs": []
    },
    {
      "cell_type": "code",
      "source": [
        "dataset"
      ],
      "metadata": {
        "colab": {
          "base_uri": "https://localhost:8080/"
        },
        "id": "TVoT0CDIZTzG",
        "outputId": "a6d588d4-1c95-4960-8e92-df11802b7996"
      },
      "execution_count": 18,
      "outputs": [
        {
          "output_type": "execute_result",
          "data": {
            "text/plain": [
              "<__main__.TextDataset at 0x7e23e61ee010>"
            ]
          },
          "metadata": {},
          "execution_count": 18
        }
      ]
    },
    {
      "cell_type": "code",
      "source": [
        "len(dataset)"
      ],
      "metadata": {
        "colab": {
          "base_uri": "https://localhost:8080/"
        },
        "id": "RheuyxxmZUIJ",
        "outputId": "869c581d-8e32-490b-92f3-263668dc8221"
      },
      "execution_count": 19,
      "outputs": [
        {
          "output_type": "execute_result",
          "data": {
            "text/plain": [
              "27103"
            ]
          },
          "metadata": {},
          "execution_count": 19
        }
      ]
    },
    {
      "cell_type": "code",
      "source": [
        "dataset[1]"
      ],
      "metadata": {
        "colab": {
          "base_uri": "https://localhost:8080/"
        },
        "id": "zsTdtUpgZVsO",
        "outputId": "9f91ba35-82bb-4691-9b47-d33898b0e2c9"
      },
      "execution_count": 20,
      "outputs": [
        {
          "output_type": "execute_result",
          "data": {
            "text/plain": [
              "('The Congress leader represents Sivaganga Lok Sabha segment from Tamil Nadu.',\n",
              " 'कांग्रेस नेता तमिलनाडु से शिवगंगा लोकसभा क्षेत्र का प्रतिनिधित्व करते हैं.')"
            ]
          },
          "metadata": {},
          "execution_count": 20
        }
      ]
    },
    {
      "cell_type": "code",
      "source": [
        "batch_size = 3\n",
        "train_loader = DataLoader(dataset, batch_size)\n",
        "iterator = iter(train_loader)"
      ],
      "metadata": {
        "id": "NeBuaNRKZXLK"
      },
      "execution_count": 21,
      "outputs": []
    },
    {
      "cell_type": "code",
      "source": [
        "for batch_num, batch in enumerate(iterator):\n",
        "    print(batch)\n",
        "    if batch_num > 3:\n",
        "        break"
      ],
      "metadata": {
        "colab": {
          "base_uri": "https://localhost:8080/"
        },
        "id": "1R8G__O2ZZH4",
        "outputId": "9ad058f0-1a51-469c-ed0b-945c806787ab"
      },
      "execution_count": 22,
      "outputs": [
        {
          "output_type": "stream",
          "name": "stdout",
          "text": [
            "[('In reply, Pakistan got off to a solid start.', 'The Congress leader represents Sivaganga Lok Sabha segment from Tamil Nadu.', 'Prompt the user about connection attempts'), ('जिसके जवाब में पाक ने अच्छी शुरुआत की थी.', 'कांग्रेस नेता तमिलनाडु से शिवगंगा लोकसभा क्षेत्र का प्रतिनिधित्व करते हैं.', 'संबंधन प्रयास के बारे में उपयोक्ता को प्रांप्ट करें')]\n",
            "[('All 176 passengers died in the incident.', 'Not invited', 'Coconut oil and lemon juice pack:'), ('इस विमान हादसे में सभी 176 यात्रियों की मौत हो गई थी.', 'आमंत्रित नहीं किया', 'नारियल तेल और नींबू का रस:')]\n",
            "[('New Delhi, 14th May, 2010', 'Algeria military plane crash', 'up and down'), ('नई दिल्ली, 14 मई, 2010', 'अल्जीरिया में एक सैन्य विमान दुर्घटनाग्रस्त', 'ऊपर-नीचे')]\n",
            "[('Probably a lot of you know the story of the two salesmen who went down to Africa in the 1900s.', 'They therefore denied it, so they will soon come to know.', 'Tejashwi slams Nitish government'), ('शायद आपमें से कई लोग दो विक्रेताओं (सेल्समेन) की कहानी जानते हैं जो १९०० सदी में अफ्रीका गए.', '(मगर जब किताब आयी) तो उन लोगों ने उससे इन्कार किया ख़ैर अनक़रीब (उसका नतीजा) उन्हें मालूम हो जाएगा', 'तेजस्वी का नीतीश सरकार पर बड़ा आरोप')]\n",
            "[('Zenan, and Hadashah, and Migdal-gad,', 'But all was not over.', 'What is JCPOA?'), ('फिर सनान, हदाशा, मिगदलगाद,', 'लेकिन पूरी तरह से खत्म नहीं हुई.', 'क्या है जेसीपीओए?')]\n"
          ]
        }
      ]
    },
    {
      "cell_type": "code",
      "source": [
        "def tokenize(sentence, language_to_index, start_token=True, end_token=True):\n",
        "    sentence_word_indicies = [language_to_index[token] for token in list(sentence)]\n",
        "    if start_token:\n",
        "        sentence_word_indicies.insert(0, language_to_index[START_TOKEN])\n",
        "    if end_token:\n",
        "        sentence_word_indicies.append(language_to_index[END_TOKEN])\n",
        "    for _ in range(len(sentence_word_indicies), max_sequence_length):\n",
        "        sentence_word_indicies.append(language_to_index[PADDING_TOKEN])\n",
        "    return torch.tensor(sentence_word_indicies)"
      ],
      "metadata": {
        "id": "eY6D6LM5Zaco"
      },
      "execution_count": 23,
      "outputs": []
    },
    {
      "cell_type": "code",
      "source": [
        "batch"
      ],
      "metadata": {
        "colab": {
          "base_uri": "https://localhost:8080/"
        },
        "id": "FfbBtvWwZidl",
        "outputId": "626f6bcd-15eb-4e51-8d7b-fa0b51bb872b"
      },
      "execution_count": 24,
      "outputs": [
        {
          "output_type": "execute_result",
          "data": {
            "text/plain": [
              "[('Zenan, and Hadashah, and Migdal-gad,',\n",
              "  'But all was not over.',\n",
              "  'What is JCPOA?'),\n",
              " ('फिर सनान, हदाशा, मिगदलगाद,',\n",
              "  'लेकिन पूरी तरह से खत्म नहीं हुई.',\n",
              "  'क्या है जेसीपीओए?')]"
            ]
          },
          "metadata": {},
          "execution_count": 24
        }
      ]
    },
    {
      "cell_type": "code",
      "source": [
        "eng_tokenized, hi_tokenized = [], []\n",
        "for sentence_num in range(batch_size):\n",
        "    eng_sentence, kn_sentence = batch[0][sentence_num], batch[1][sentence_num]\n",
        "    eng_tokenized.append( tokenize(eng_sentence, english_to_index, start_token=False, end_token=False) )\n",
        "    hi_tokenized.append( tokenize(kn_sentence, hindi_to_index, start_token=True, end_token=True) )\n",
        "eng_tokenized = torch.stack(eng_tokenized)\n",
        "hi_tokenized = torch.stack(hi_tokenized)"
      ],
      "metadata": {
        "id": "G7oYwOW2Zktj"
      },
      "execution_count": 25,
      "outputs": []
    },
    {
      "cell_type": "code",
      "source": [
        "hi_tokenized"
      ],
      "metadata": {
        "colab": {
          "base_uri": "https://localhost:8080/"
        },
        "id": "KOuAx8NHZo30",
        "outputId": "d39ddb59-6843-4ce2-b31b-94eb3018b847"
      },
      "execution_count": 26,
      "outputs": [
        {
          "output_type": "execute_result",
          "data": {
            "text/plain": [
              "tensor([[  0,  76,  97,  81,   1,  86,  74,  96,  74,  13,   1,  87,  72,  96,\n",
              "          84,  96,  13,   1,  79,  97,  57,  72,  82,  57,  96,  72,  13, 127,\n",
              "         126, 126, 126, 126, 126, 126, 126, 126, 126, 126, 126, 126, 126, 126,\n",
              "         126, 126, 126, 126, 126, 126, 126, 126, 126, 126, 126, 126, 126, 126,\n",
              "         126, 126, 126, 126, 126, 126, 126, 126, 126, 126, 126, 126, 126, 126,\n",
              "         126, 126, 126, 126, 126, 126, 126, 126, 126, 126, 126, 126, 126, 126,\n",
              "         126, 126, 126, 126, 126, 126, 126, 126, 126, 126, 126, 126, 126, 126,\n",
              "         126, 126, 126, 126, 126, 126, 126, 126, 126, 126, 126, 126, 126, 126,\n",
              "         126, 126, 126, 126, 126, 126, 126, 126, 126, 126, 126, 126, 126, 126,\n",
              "         126, 126, 126, 126, 126, 126, 126, 126, 126, 126, 126, 126, 126, 126,\n",
              "         126, 126, 126, 126, 126, 126, 126, 126, 126, 126, 126, 126, 126, 126,\n",
              "         126, 126, 126, 126, 126, 126, 126, 126, 126, 126, 126, 126, 126, 126,\n",
              "         126, 126, 126, 126, 126, 126, 126, 126, 126, 126, 126, 126, 126, 126,\n",
              "         126, 126, 126, 126, 126, 126, 126, 126, 126, 126, 126, 126, 126, 126,\n",
              "         126, 126, 126, 126],\n",
              "        [  0,  82, 103,  55,  97,  74,   1,  75, 100,  81,  98,   1,  70,  81,\n",
              "          87,   1,  86, 103,   1,  56,  70, 110,  79,   1,  74,  87,  98, 108,\n",
              "           1,  87,  99,  42,  15, 127, 126, 126, 126, 126, 126, 126, 126, 126,\n",
              "         126, 126, 126, 126, 126, 126, 126, 126, 126, 126, 126, 126, 126, 126,\n",
              "         126, 126, 126, 126, 126, 126, 126, 126, 126, 126, 126, 126, 126, 126,\n",
              "         126, 126, 126, 126, 126, 126, 126, 126, 126, 126, 126, 126, 126, 126,\n",
              "         126, 126, 126, 126, 126, 126, 126, 126, 126, 126, 126, 126, 126, 126,\n",
              "         126, 126, 126, 126, 126, 126, 126, 126, 126, 126, 126, 126, 126, 126,\n",
              "         126, 126, 126, 126, 126, 126, 126, 126, 126, 126, 126, 126, 126, 126,\n",
              "         126, 126, 126, 126, 126, 126, 126, 126, 126, 126, 126, 126, 126, 126,\n",
              "         126, 126, 126, 126, 126, 126, 126, 126, 126, 126, 126, 126, 126, 126,\n",
              "         126, 126, 126, 126, 126, 126, 126, 126, 126, 126, 126, 126, 126, 126,\n",
              "         126, 126, 126, 126, 126, 126, 126, 126, 126, 126, 126, 126, 126, 126,\n",
              "         126, 126, 126, 126, 126, 126, 126, 126, 126, 126, 126, 126, 126, 126,\n",
              "         126, 126, 126, 126],\n",
              "        [  0,  55, 110,  80,  96,   1,  87, 104,   1,  62, 103,  86,  98,  75,\n",
              "          98,  51,  49,  31, 127, 126, 126, 126, 126, 126, 126, 126, 126, 126,\n",
              "         126, 126, 126, 126, 126, 126, 126, 126, 126, 126, 126, 126, 126, 126,\n",
              "         126, 126, 126, 126, 126, 126, 126, 126, 126, 126, 126, 126, 126, 126,\n",
              "         126, 126, 126, 126, 126, 126, 126, 126, 126, 126, 126, 126, 126, 126,\n",
              "         126, 126, 126, 126, 126, 126, 126, 126, 126, 126, 126, 126, 126, 126,\n",
              "         126, 126, 126, 126, 126, 126, 126, 126, 126, 126, 126, 126, 126, 126,\n",
              "         126, 126, 126, 126, 126, 126, 126, 126, 126, 126, 126, 126, 126, 126,\n",
              "         126, 126, 126, 126, 126, 126, 126, 126, 126, 126, 126, 126, 126, 126,\n",
              "         126, 126, 126, 126, 126, 126, 126, 126, 126, 126, 126, 126, 126, 126,\n",
              "         126, 126, 126, 126, 126, 126, 126, 126, 126, 126, 126, 126, 126, 126,\n",
              "         126, 126, 126, 126, 126, 126, 126, 126, 126, 126, 126, 126, 126, 126,\n",
              "         126, 126, 126, 126, 126, 126, 126, 126, 126, 126, 126, 126, 126, 126,\n",
              "         126, 126, 126, 126, 126, 126, 126, 126, 126, 126, 126, 126, 126, 126,\n",
              "         126, 126, 126, 126]])"
            ]
          },
          "metadata": {},
          "execution_count": 26
        }
      ]
    },
    {
      "cell_type": "code",
      "source": [
        "NEG_INFTY = -1e9\n",
        "\n",
        "def create_masks(eng_batch, hi_batch):\n",
        "    num_sentences = len(eng_batch)\n",
        "    look_ahead_mask = torch.full([max_sequence_length, max_sequence_length] , True)\n",
        "    look_ahead_mask = torch.triu(look_ahead_mask, diagonal=1)\n",
        "    encoder_padding_mask = torch.full([num_sentences, max_sequence_length, max_sequence_length] , False)\n",
        "    decoder_padding_mask_self_attention = torch.full([num_sentences, max_sequence_length, max_sequence_length] , False)\n",
        "    decoder_padding_mask_cross_attention = torch.full([num_sentences, max_sequence_length, max_sequence_length] , False)\n",
        "\n",
        "    for idx in range(num_sentences):\n",
        "      eng_sentence_length, hi_sentence_length = len(eng_batch[idx]), len(hi_batch[idx])\n",
        "      eng_chars_to_padding_mask = np.arange(eng_sentence_length + 1, max_sequence_length)\n",
        "      hi_chars_to_padding_mask = np.arange(hi_sentence_length + 1, max_sequence_length)\n",
        "      encoder_padding_mask[idx, :, eng_chars_to_padding_mask] = True\n",
        "      encoder_padding_mask[idx, eng_chars_to_padding_mask, :] = True\n",
        "      decoder_padding_mask_self_attention[idx, :, hi_chars_to_padding_mask] = True\n",
        "      decoder_padding_mask_self_attention[idx, hi_chars_to_padding_mask, :] = True\n",
        "      decoder_padding_mask_cross_attention[idx, :, eng_chars_to_padding_mask] = True\n",
        "      decoder_padding_mask_cross_attention[idx, hi_chars_to_padding_mask, :] = True\n",
        "\n",
        "    encoder_self_attention_mask = torch.where(encoder_padding_mask, NEG_INFTY, 0)\n",
        "    decoder_self_attention_mask =  torch.where(look_ahead_mask + decoder_padding_mask_self_attention, NEG_INFTY, 0)\n",
        "    decoder_cross_attention_mask = torch.where(decoder_padding_mask_cross_attention, NEG_INFTY, 0)\n",
        "    # print(f\"encoder_self_attention_mask {encoder_self_attention_mask.size()}: {encoder_self_attention_mask[0, :10, :10]}\")\n",
        "    # print(f\"decoder_self_attention_mask {decoder_self_attention_mask.size()}: {decoder_self_attention_mask[0, :10, :10]}\")\n",
        "    # print(f\"decoder_cross_attention_mask {decoder_cross_attention_mask.size()}: {decoder_cross_attention_mask[0, :10, :10]}\")\n",
        "    return encoder_self_attention_mask, decoder_self_attention_mask, decoder_cross_attention_mask"
      ],
      "metadata": {
        "id": "olCitxxxZzE7"
      },
      "execution_count": 27,
      "outputs": []
    },
    {
      "cell_type": "code",
      "source": [
        "create_masks(batch[0], batch[1])"
      ],
      "metadata": {
        "colab": {
          "base_uri": "https://localhost:8080/"
        },
        "id": "PIOZdZEFaM2I",
        "outputId": "4f9bc33a-7480-444c-cd36-d05a32649812"
      },
      "execution_count": 28,
      "outputs": [
        {
          "output_type": "execute_result",
          "data": {
            "text/plain": [
              "(tensor([[[ 0.0000e+00,  0.0000e+00,  0.0000e+00,  ..., -1.0000e+09,\n",
              "           -1.0000e+09, -1.0000e+09],\n",
              "          [ 0.0000e+00,  0.0000e+00,  0.0000e+00,  ..., -1.0000e+09,\n",
              "           -1.0000e+09, -1.0000e+09],\n",
              "          [ 0.0000e+00,  0.0000e+00,  0.0000e+00,  ..., -1.0000e+09,\n",
              "           -1.0000e+09, -1.0000e+09],\n",
              "          ...,\n",
              "          [-1.0000e+09, -1.0000e+09, -1.0000e+09,  ..., -1.0000e+09,\n",
              "           -1.0000e+09, -1.0000e+09],\n",
              "          [-1.0000e+09, -1.0000e+09, -1.0000e+09,  ..., -1.0000e+09,\n",
              "           -1.0000e+09, -1.0000e+09],\n",
              "          [-1.0000e+09, -1.0000e+09, -1.0000e+09,  ..., -1.0000e+09,\n",
              "           -1.0000e+09, -1.0000e+09]],\n",
              " \n",
              "         [[ 0.0000e+00,  0.0000e+00,  0.0000e+00,  ..., -1.0000e+09,\n",
              "           -1.0000e+09, -1.0000e+09],\n",
              "          [ 0.0000e+00,  0.0000e+00,  0.0000e+00,  ..., -1.0000e+09,\n",
              "           -1.0000e+09, -1.0000e+09],\n",
              "          [ 0.0000e+00,  0.0000e+00,  0.0000e+00,  ..., -1.0000e+09,\n",
              "           -1.0000e+09, -1.0000e+09],\n",
              "          ...,\n",
              "          [-1.0000e+09, -1.0000e+09, -1.0000e+09,  ..., -1.0000e+09,\n",
              "           -1.0000e+09, -1.0000e+09],\n",
              "          [-1.0000e+09, -1.0000e+09, -1.0000e+09,  ..., -1.0000e+09,\n",
              "           -1.0000e+09, -1.0000e+09],\n",
              "          [-1.0000e+09, -1.0000e+09, -1.0000e+09,  ..., -1.0000e+09,\n",
              "           -1.0000e+09, -1.0000e+09]],\n",
              " \n",
              "         [[ 0.0000e+00,  0.0000e+00,  0.0000e+00,  ..., -1.0000e+09,\n",
              "           -1.0000e+09, -1.0000e+09],\n",
              "          [ 0.0000e+00,  0.0000e+00,  0.0000e+00,  ..., -1.0000e+09,\n",
              "           -1.0000e+09, -1.0000e+09],\n",
              "          [ 0.0000e+00,  0.0000e+00,  0.0000e+00,  ..., -1.0000e+09,\n",
              "           -1.0000e+09, -1.0000e+09],\n",
              "          ...,\n",
              "          [-1.0000e+09, -1.0000e+09, -1.0000e+09,  ..., -1.0000e+09,\n",
              "           -1.0000e+09, -1.0000e+09],\n",
              "          [-1.0000e+09, -1.0000e+09, -1.0000e+09,  ..., -1.0000e+09,\n",
              "           -1.0000e+09, -1.0000e+09],\n",
              "          [-1.0000e+09, -1.0000e+09, -1.0000e+09,  ..., -1.0000e+09,\n",
              "           -1.0000e+09, -1.0000e+09]]]),\n",
              " tensor([[[ 0.0000e+00, -1.0000e+09, -1.0000e+09,  ..., -1.0000e+09,\n",
              "           -1.0000e+09, -1.0000e+09],\n",
              "          [ 0.0000e+00,  0.0000e+00, -1.0000e+09,  ..., -1.0000e+09,\n",
              "           -1.0000e+09, -1.0000e+09],\n",
              "          [ 0.0000e+00,  0.0000e+00,  0.0000e+00,  ..., -1.0000e+09,\n",
              "           -1.0000e+09, -1.0000e+09],\n",
              "          ...,\n",
              "          [-1.0000e+09, -1.0000e+09, -1.0000e+09,  ..., -1.0000e+09,\n",
              "           -1.0000e+09, -1.0000e+09],\n",
              "          [-1.0000e+09, -1.0000e+09, -1.0000e+09,  ..., -1.0000e+09,\n",
              "           -1.0000e+09, -1.0000e+09],\n",
              "          [-1.0000e+09, -1.0000e+09, -1.0000e+09,  ..., -1.0000e+09,\n",
              "           -1.0000e+09, -1.0000e+09]],\n",
              " \n",
              "         [[ 0.0000e+00, -1.0000e+09, -1.0000e+09,  ..., -1.0000e+09,\n",
              "           -1.0000e+09, -1.0000e+09],\n",
              "          [ 0.0000e+00,  0.0000e+00, -1.0000e+09,  ..., -1.0000e+09,\n",
              "           -1.0000e+09, -1.0000e+09],\n",
              "          [ 0.0000e+00,  0.0000e+00,  0.0000e+00,  ..., -1.0000e+09,\n",
              "           -1.0000e+09, -1.0000e+09],\n",
              "          ...,\n",
              "          [-1.0000e+09, -1.0000e+09, -1.0000e+09,  ..., -1.0000e+09,\n",
              "           -1.0000e+09, -1.0000e+09],\n",
              "          [-1.0000e+09, -1.0000e+09, -1.0000e+09,  ..., -1.0000e+09,\n",
              "           -1.0000e+09, -1.0000e+09],\n",
              "          [-1.0000e+09, -1.0000e+09, -1.0000e+09,  ..., -1.0000e+09,\n",
              "           -1.0000e+09, -1.0000e+09]],\n",
              " \n",
              "         [[ 0.0000e+00, -1.0000e+09, -1.0000e+09,  ..., -1.0000e+09,\n",
              "           -1.0000e+09, -1.0000e+09],\n",
              "          [ 0.0000e+00,  0.0000e+00, -1.0000e+09,  ..., -1.0000e+09,\n",
              "           -1.0000e+09, -1.0000e+09],\n",
              "          [ 0.0000e+00,  0.0000e+00,  0.0000e+00,  ..., -1.0000e+09,\n",
              "           -1.0000e+09, -1.0000e+09],\n",
              "          ...,\n",
              "          [-1.0000e+09, -1.0000e+09, -1.0000e+09,  ..., -1.0000e+09,\n",
              "           -1.0000e+09, -1.0000e+09],\n",
              "          [-1.0000e+09, -1.0000e+09, -1.0000e+09,  ..., -1.0000e+09,\n",
              "           -1.0000e+09, -1.0000e+09],\n",
              "          [-1.0000e+09, -1.0000e+09, -1.0000e+09,  ..., -1.0000e+09,\n",
              "           -1.0000e+09, -1.0000e+09]]]),\n",
              " tensor([[[ 0.0000e+00,  0.0000e+00,  0.0000e+00,  ..., -1.0000e+09,\n",
              "           -1.0000e+09, -1.0000e+09],\n",
              "          [ 0.0000e+00,  0.0000e+00,  0.0000e+00,  ..., -1.0000e+09,\n",
              "           -1.0000e+09, -1.0000e+09],\n",
              "          [ 0.0000e+00,  0.0000e+00,  0.0000e+00,  ..., -1.0000e+09,\n",
              "           -1.0000e+09, -1.0000e+09],\n",
              "          ...,\n",
              "          [-1.0000e+09, -1.0000e+09, -1.0000e+09,  ..., -1.0000e+09,\n",
              "           -1.0000e+09, -1.0000e+09],\n",
              "          [-1.0000e+09, -1.0000e+09, -1.0000e+09,  ..., -1.0000e+09,\n",
              "           -1.0000e+09, -1.0000e+09],\n",
              "          [-1.0000e+09, -1.0000e+09, -1.0000e+09,  ..., -1.0000e+09,\n",
              "           -1.0000e+09, -1.0000e+09]],\n",
              " \n",
              "         [[ 0.0000e+00,  0.0000e+00,  0.0000e+00,  ..., -1.0000e+09,\n",
              "           -1.0000e+09, -1.0000e+09],\n",
              "          [ 0.0000e+00,  0.0000e+00,  0.0000e+00,  ..., -1.0000e+09,\n",
              "           -1.0000e+09, -1.0000e+09],\n",
              "          [ 0.0000e+00,  0.0000e+00,  0.0000e+00,  ..., -1.0000e+09,\n",
              "           -1.0000e+09, -1.0000e+09],\n",
              "          ...,\n",
              "          [-1.0000e+09, -1.0000e+09, -1.0000e+09,  ..., -1.0000e+09,\n",
              "           -1.0000e+09, -1.0000e+09],\n",
              "          [-1.0000e+09, -1.0000e+09, -1.0000e+09,  ..., -1.0000e+09,\n",
              "           -1.0000e+09, -1.0000e+09],\n",
              "          [-1.0000e+09, -1.0000e+09, -1.0000e+09,  ..., -1.0000e+09,\n",
              "           -1.0000e+09, -1.0000e+09]],\n",
              " \n",
              "         [[ 0.0000e+00,  0.0000e+00,  0.0000e+00,  ..., -1.0000e+09,\n",
              "           -1.0000e+09, -1.0000e+09],\n",
              "          [ 0.0000e+00,  0.0000e+00,  0.0000e+00,  ..., -1.0000e+09,\n",
              "           -1.0000e+09, -1.0000e+09],\n",
              "          [ 0.0000e+00,  0.0000e+00,  0.0000e+00,  ..., -1.0000e+09,\n",
              "           -1.0000e+09, -1.0000e+09],\n",
              "          ...,\n",
              "          [-1.0000e+09, -1.0000e+09, -1.0000e+09,  ..., -1.0000e+09,\n",
              "           -1.0000e+09, -1.0000e+09],\n",
              "          [-1.0000e+09, -1.0000e+09, -1.0000e+09,  ..., -1.0000e+09,\n",
              "           -1.0000e+09, -1.0000e+09],\n",
              "          [-1.0000e+09, -1.0000e+09, -1.0000e+09,  ..., -1.0000e+09,\n",
              "           -1.0000e+09, -1.0000e+09]]]))"
            ]
          },
          "metadata": {},
          "execution_count": 28
        }
      ]
    },
    {
      "cell_type": "code",
      "source": [
        "import numpy as np\n",
        "from transformers import Transformer"
      ],
      "metadata": {
        "id": "Y2rczx3waoo3"
      },
      "execution_count": 29,
      "outputs": []
    },
    {
      "cell_type": "code",
      "source": [
        "d_model = 512\n",
        "batch_size = 30\n",
        "ffn_hidden = 2048\n",
        "num_heads = 8\n",
        "drop_prob = 0.1\n",
        "num_layers = 1\n",
        "max_sequence_length = 200\n",
        "kn_vocab_size = len(hindi_vocabulary)\n",
        "\n",
        "transformer = Transformer(d_model,\n",
        "                          ffn_hidden,\n",
        "                          num_heads,\n",
        "                          drop_prob,\n",
        "                          num_layers,\n",
        "                          max_sequence_length,\n",
        "                          kn_vocab_size,\n",
        "                          english_to_index,\n",
        "                          hindi_to_index,\n",
        "                          START_TOKEN,\n",
        "                          END_TOKEN,\n",
        "                          PADDING_TOKEN)"
      ],
      "metadata": {
        "id": "KEEUrB9zbStb"
      },
      "execution_count": 30,
      "outputs": []
    },
    {
      "cell_type": "code",
      "source": [
        "transformer"
      ],
      "metadata": {
        "colab": {
          "base_uri": "https://localhost:8080/"
        },
        "id": "9-Ea2hRhbZ5A",
        "outputId": "a0769ad4-49d6-466f-cd39-2dc1a9fb4ce2"
      },
      "execution_count": 31,
      "outputs": [
        {
          "output_type": "execute_result",
          "data": {
            "text/plain": [
              "Transformer(\n",
              "  (encoder): Encoder(\n",
              "    (sentence_embedding): SentenceEmbedding(\n",
              "      (embedding): Embedding(97, 512)\n",
              "      (position_encoder): PositionalEncoding()\n",
              "      (dropout): Dropout(p=0.1, inplace=False)\n",
              "    )\n",
              "    (layers): SequentialEncoder(\n",
              "      (0): EncoderLayer(\n",
              "        (attention): MultiHeadAttention(\n",
              "          (qkv_layer): Linear(in_features=512, out_features=1536, bias=True)\n",
              "          (linear_layer): Linear(in_features=512, out_features=512, bias=True)\n",
              "        )\n",
              "        (norm1): LayerNormalization()\n",
              "        (dropout1): Dropout(p=0.1, inplace=False)\n",
              "        (ffn): PositionwiseFeedForward(\n",
              "          (linear1): Linear(in_features=512, out_features=2048, bias=True)\n",
              "          (linear2): Linear(in_features=2048, out_features=512, bias=True)\n",
              "          (relu): ReLU()\n",
              "          (dropout): Dropout(p=0.1, inplace=False)\n",
              "        )\n",
              "        (norm2): LayerNormalization()\n",
              "        (dropout2): Dropout(p=0.1, inplace=False)\n",
              "      )\n",
              "    )\n",
              "  )\n",
              "  (decoder): Decoder(\n",
              "    (sentence_embedding): SentenceEmbedding(\n",
              "      (embedding): Embedding(128, 512)\n",
              "      (position_encoder): PositionalEncoding()\n",
              "      (dropout): Dropout(p=0.1, inplace=False)\n",
              "    )\n",
              "    (layers): SequentialDecoder(\n",
              "      (0): DecoderLayer(\n",
              "        (self_attention): MultiHeadAttention(\n",
              "          (qkv_layer): Linear(in_features=512, out_features=1536, bias=True)\n",
              "          (linear_layer): Linear(in_features=512, out_features=512, bias=True)\n",
              "        )\n",
              "        (layer_norm1): LayerNormalization()\n",
              "        (dropout1): Dropout(p=0.1, inplace=False)\n",
              "        (encoder_decoder_attention): MultiHeadCrossAttention(\n",
              "          (kv_layer): Linear(in_features=512, out_features=1024, bias=True)\n",
              "          (q_layer): Linear(in_features=512, out_features=512, bias=True)\n",
              "          (linear_layer): Linear(in_features=512, out_features=512, bias=True)\n",
              "        )\n",
              "        (layer_norm2): LayerNormalization()\n",
              "        (dropout2): Dropout(p=0.1, inplace=False)\n",
              "        (ffn): PositionwiseFeedForward(\n",
              "          (linear1): Linear(in_features=512, out_features=2048, bias=True)\n",
              "          (linear2): Linear(in_features=2048, out_features=512, bias=True)\n",
              "          (relu): ReLU()\n",
              "          (dropout): Dropout(p=0.1, inplace=False)\n",
              "        )\n",
              "        (layer_norm3): LayerNormalization()\n",
              "        (dropout3): Dropout(p=0.1, inplace=False)\n",
              "      )\n",
              "    )\n",
              "  )\n",
              "  (linear): Linear(in_features=512, out_features=128, bias=True)\n",
              ")"
            ]
          },
          "metadata": {},
          "execution_count": 31
        }
      ]
    },
    {
      "cell_type": "code",
      "source": [
        "!pip install torchinfo\n",
        "from torchinfo import summary\n",
        "summary(transformer )"
      ],
      "metadata": {
        "colab": {
          "base_uri": "https://localhost:8080/"
        },
        "id": "RIDQizUFbiTD",
        "outputId": "82f06719-7775-43d8-854c-f1ae2fe8f1f2"
      },
      "execution_count": 32,
      "outputs": [
        {
          "output_type": "stream",
          "name": "stdout",
          "text": [
            "Requirement already satisfied: torchinfo in /usr/local/lib/python3.11/dist-packages (1.8.0)\n"
          ]
        },
        {
          "output_type": "execute_result",
          "data": {
            "text/plain": [
              "===========================================================================\n",
              "Layer (type:depth-idx)                             Param #\n",
              "===========================================================================\n",
              "Transformer                                        --\n",
              "├─Encoder: 1-1                                     --\n",
              "│    └─SentenceEmbedding: 2-1                      --\n",
              "│    │    └─Embedding: 3-1                         49,664\n",
              "│    │    └─PositionalEncoding: 3-2                --\n",
              "│    │    └─Dropout: 3-3                           --\n",
              "│    └─SequentialEncoder: 2-2                      --\n",
              "│    │    └─EncoderLayer: 3-4                      3,152,384\n",
              "├─Decoder: 1-2                                     --\n",
              "│    └─SentenceEmbedding: 2-3                      --\n",
              "│    │    └─Embedding: 3-5                         65,536\n",
              "│    │    └─PositionalEncoding: 3-6                --\n",
              "│    │    └─Dropout: 3-7                           --\n",
              "│    └─SequentialDecoder: 2-4                      --\n",
              "│    │    └─DecoderLayer: 3-8                      4,204,032\n",
              "├─Linear: 1-3                                      65,664\n",
              "===========================================================================\n",
              "Total params: 7,537,280\n",
              "Trainable params: 7,537,280\n",
              "Non-trainable params: 0\n",
              "==========================================================================="
            ]
          },
          "metadata": {},
          "execution_count": 32
        }
      ]
    },
    {
      "cell_type": "code",
      "source": [
        "from torch import nn\n",
        "\n",
        "criterian = nn.CrossEntropyLoss(ignore_index=hindi_to_index[PADDING_TOKEN],\n",
        "                                reduction='none')\n",
        "\n",
        "# When computing the loss, we are ignoring cases when the label is the padding token\n",
        "for params in transformer.parameters():\n",
        "    if params.dim() > 1:\n",
        "        nn.init.xavier_uniform_(params)\n",
        "\n",
        "optim = torch.optim.Adam(transformer.parameters(), lr=1e-4)\n",
        "device = torch.device('cuda') if torch.cuda.is_available() else torch.device('cpu')"
      ],
      "metadata": {
        "id": "tP6_C0YQcDQp"
      },
      "execution_count": 33,
      "outputs": []
    },
    {
      "cell_type": "code",
      "source": [
        "from tqdm.notebook import tqdm\n",
        "transformer.train()\n",
        "transformer.to(device)\n",
        "num_epochs = 10\n",
        "\n",
        "\n",
        "for epoch in tqdm(range(num_epochs)):\n",
        "    print(f\"\\nEpoch {epoch + 1}\")\n",
        "    for batch_num, batch in enumerate(train_loader):\n",
        "        transformer.train()\n",
        "        eng_batch, hi_batch = batch\n",
        "\n",
        "        # Create masks\n",
        "        encoder_self_attention_mask, decoder_self_attention_mask, decoder_cross_attention_mask = create_masks(\n",
        "            eng_batch, hi_batch\n",
        "        )\n",
        "\n",
        "        optim.zero_grad()\n",
        "\n",
        "        hi_predictions = transformer(\n",
        "            eng_batch,\n",
        "            hi_batch,\n",
        "            encoder_self_attention_mask.to(device),\n",
        "            decoder_self_attention_mask.to(device),\n",
        "            decoder_cross_attention_mask.to(device),\n",
        "            enc_start_token=False,\n",
        "            enc_end_token=False,\n",
        "            dec_start_token=True,\n",
        "            dec_end_token=True\n",
        "        )\n",
        "\n",
        "        labels = transformer.decoder.sentence_embedding.batch_tokenize(\n",
        "            hi_batch, start_token=False, end_token=True\n",
        "        ).to(device)\n",
        "\n",
        "        loss = criterian(\n",
        "            hi_predictions.view(-1, kn_vocab_size),\n",
        "            labels.view(-1)\n",
        "        )\n",
        "\n",
        "        valid_indices = torch.where(labels.view(-1) != hindi_to_index[PADDING_TOKEN], True, False)\n",
        "        loss = loss.view(-1)\n",
        "        loss = loss[valid_indices]\n",
        "        final_loss = loss.sum() / valid_indices.sum()\n",
        "\n",
        "        final_loss.backward()\n",
        "        optim.step()\n",
        "\n",
        "        if batch_num % 3000 == 0:\n",
        "            print(f\"\\nIteration {batch_num} : {final_loss.item()}\")\n",
        "            print(f\"\\nEnglish: {eng_batch[0]}\")\n",
        "            print(f\"\\nHindi Translation: {hi_batch[0]}\")\n",
        "\n",
        "            # Decode first predicted sentence\n",
        "            hi_sentence_predicted = torch.argmax(hi_predictions[0], dim=1)\n",
        "            predicted_sentence = \"\"\n",
        "            for idx in hi_sentence_predicted:\n",
        "                if idx.item() == hindi_to_index[END_TOKEN]:\n",
        "                    break\n",
        "                predicted_sentence += index_to_hindi[idx.item()]\n",
        "            print(f\"\\nHindi Prediction: {predicted_sentence}\")"
      ],
      "metadata": {
        "colab": {
          "base_uri": "https://localhost:8080/",
          "height": 1000,
          "referenced_widgets": [
            "efe35265faf14321b5e27593aa29eb85",
            "ba23241089f7433aaf8ed53636df9139",
            "689376d118454eb3a9928061bc1cf340",
            "efb61fc52da54cdf824330b9537f3089",
            "6bfc0c8119cb402f9b38a5cc476236eb",
            "044e28dba0c04accb0d2485b1cdd2e4c",
            "fd8d610c20d940e88bd4c8e30f7cca58",
            "f338079f9fe34bfeb3421756f42ca979",
            "0dcb85c45caf46fdac341a829e4c0b6a",
            "95324e0650314f278e8ba7d9a79639c9",
            "38b01cff39aa4db1b169b111688f4b8d"
          ]
        },
        "id": "EpW7KMYUbqff",
        "outputId": "46687013-1242-4e17-a048-497cd02e26ec"
      },
      "execution_count": 34,
      "outputs": [
        {
          "output_type": "display_data",
          "data": {
            "text/plain": [
              "  0%|          | 0/10 [00:00<?, ?it/s]"
            ],
            "application/vnd.jupyter.widget-view+json": {
              "version_major": 2,
              "version_minor": 0,
              "model_id": "efe35265faf14321b5e27593aa29eb85"
            }
          },
          "metadata": {}
        },
        {
          "output_type": "stream",
          "name": "stdout",
          "text": [
            "\n",
            "Epoch 1\n",
            "\n",
            "Iteration 0 : 5.766768932342529\n",
            "\n",
            "English: In reply, Pakistan got off to a solid start.\n",
            "\n",
            "Hindi Translation: जिसके जवाब में पाक ने अच्छी शुरुआत की थी.\n",
            "\n",
            "Hindi Prediction: ैूैभैऋैैढैै६*ैय़००ैैै >8९व०ैैैैैऔै०ढो >व०व >ो :०!*०::०औ   लऋऋऔऔ०ऋऋ भ<pad>क़०ू  ^औऔ००ऋघऐई ऋढ!!     अू  ॐ44घघषॡ     4  व  \"लॐलढढढढ>>>ल>ढढ ढढ>>ढ>धढ लढॡ!ऐॡक़क़>ऊऊ  ॐॡॡॐॐ>>ढ =>ॐ ॐक़भभॡॡयभ># =ॐॡ    व1 व     = \">  ऐऐ\n",
            "\n",
            "Iteration 3000 : 3.003967046737671\n",
            "\n",
            "English: Simultaneous computer\n",
            "\n",
            "Hindi Translation: युगपत कंप्यूटर\n",
            "\n",
            "Hindi Prediction: काल   की  या                                                                                                                                                                                            \n",
            "\n",
            "Iteration 6000 : 2.2086260318756104\n",
            "\n",
            "English: The police arres...\n",
            "\n",
            "Hindi Translation: पुलिस ने बदमाशों .\n",
            "\n",
            "Hindi Prediction: क्लेक के काा   ं क\n",
            "\n",
            "Iteration 9000 : 2.583329200744629\n",
            "\n",
            "English: Also Read: Here's How To Prepare Sushi At Home With This Step By Step Guide\n",
            "\n",
            "Hindi Translation: यह भी पढ़ें: घर पर ऐेसे बनाएं स्पाइसी छोले-भटूरे: रेसिपी\n",
            "\n",
            "Hindi Prediction: पहाका क़्ा ग का्क््कस ् का्   केर्रक् का ा  ा र   का ्क्                             स                                                            स                                                  न  \n",
            "\n",
            "Epoch 2\n",
            "\n",
            "Iteration 0 : 2.340961456298828\n",
            "\n",
            "English: In reply, Pakistan got off to a solid start.\n",
            "\n",
            "Hindi Translation: जिसके जवाब में पाक ने अच्छी शुरुआत की थी.\n",
            "\n",
            "Hindi Prediction: पार ा काा  कें क्र से कप्र  प्ल द  हि हा \n",
            "\n",
            "Iteration 3000 : 2.6085398197174072\n",
            "\n",
            "English: Simultaneous computer\n",
            "\n",
            "Hindi Translation: युगपत कंप्यूटर\n",
            "\n",
            "Hindi Prediction: काप ् केग्रार\n",
            "\n",
            "Iteration 6000 : 1.7346863746643066\n",
            "\n",
            "English: The police arres...\n",
            "\n",
            "Hindi Translation: पुलिस ने बदमाशों .\n",
            "\n",
            "Hindi Prediction: इ्लिस के काल   ं ह\n",
            "\n",
            "Iteration 9000 : 2.4173262119293213\n",
            "\n",
            "English: Also Read: Here's How To Prepare Sushi At Home With This Step By Step Guide\n",
            "\n",
            "Hindi Translation: यह भी पढ़ें: घर पर ऐेसे बनाएं स्पाइसी छोले-भटूरे: रेसिपी\n",
            "\n",
            "Hindi Prediction: कहाका क़्े   कट्कर कस   काा स केथ्रट  काका  ा र   काट्यी                                                                                        न                  क       क           क   कक           \n",
            "\n",
            "Epoch 3\n",
            "\n",
            "Iteration 0 : 1.9709869623184204\n",
            "\n",
            "English: In reply, Pakistan got off to a solid start.\n",
            "\n",
            "Hindi Translation: जिसके जवाब में पाक ने अच्छी शुरुआत की थी.\n",
            "\n",
            "Hindi Prediction: पिस ा साारीकें क्र्पे कप्मा क्र्पई ही हा.\n",
            "\n",
            "Iteration 3000 : 2.476787805557251\n",
            "\n",
            "English: Simultaneous computer\n",
            "\n",
            "Hindi Translation: युगपत कंप्यूटर\n",
            "\n",
            "Hindi Prediction: पेक्् केग रार                                                                                                                 प               प प  न                        प          न                \n",
            "\n",
            "Iteration 6000 : 1.525380253791809\n",
            "\n",
            "English: The police arres...\n",
            "\n",
            "Hindi Translation: पुलिस ने बदमाशों .\n",
            "\n",
            "Hindi Prediction: यालिस कह काल र ं ह\n",
            "\n",
            "Iteration 9000 : 2.3298165798187256\n",
            "\n",
            "English: Also Read: Here's How To Prepare Sushi At Home With This Step By Step Guide\n",
            "\n",
            "Hindi Translation: यह भी पढ़ें: घर पर ऐेसे बनाएं स्पाइसी छोले-भटूरे: रेसिपी\n",
            "\n",
            "Hindi Prediction: कहावा म़्ा   कट कर कस   काायं काथ् ल  काटा  ा र   कान न                                                            ट                                             ग                       ग              \n",
            "\n",
            "Epoch 4\n",
            "\n",
            "Iteration 0 : 1.73073148727417\n",
            "\n",
            "English: In reply, Pakistan got off to a solid start.\n",
            "\n",
            "Hindi Translation: जिसके जवाब में पाक ने अच्छी शुरुआत की थी.\n",
            "\n",
            "Hindi Prediction: इिसके लिाद कें क्लिके कप्छ  किर्रई हर हा.\n",
            "\n",
            "Iteration 3000 : 2.3775744438171387\n",
            "\n",
            "English: Simultaneous computer\n",
            "\n",
            "Hindi Translation: युगपत कंप्यूटर\n",
            "\n",
            "Hindi Prediction: पेश ााकेप्रार \n",
            "\n",
            "Iteration 6000 : 1.4298088550567627\n",
            "\n",
            "English: The police arres...\n",
            "\n",
            "Hindi Translation: पुलिस ने बदमाशों .\n",
            "\n",
            "Hindi Prediction: इुलिस ने काल   ं क\n",
            "\n",
            "Iteration 9000 : 2.1768546104431152\n",
            "\n",
            "English: Also Read: Here's How To Prepare Sushi At Home With This Step By Step Guide\n",
            "\n",
            "Hindi Translation: यह भी पढ़ें: घर पर ऐेसे बनाएं स्पाइसी छोले-भटूरे: रेसिपी\n",
            "\n",
            "Hindi Prediction: (हाका क़्े   मट कर कस   काायं केथादन  कोटी  ा ल   कान न्                                                                                                                                                \n",
            "\n",
            "Epoch 5\n",
            "\n",
            "Iteration 0 : 1.6192357540130615\n",
            "\n",
            "English: In reply, Pakistan got off to a solid start.\n",
            "\n",
            "Hindi Translation: जिसके जवाब में पाक ने अच्छी शुरुआत की थी.\n",
            "\n",
            "Hindi Prediction: पिसाे बिाब कें प्रिपे कप्छा कारूआतीहर ही.\n",
            "\n",
            "Iteration 3000 : 2.3416996002197266\n",
            "\n",
            "English: Simultaneous computer\n",
            "\n",
            "Hindi Translation: युगपत कंप्यूटर\n",
            "\n",
            "Hindi Prediction: कावरनाकेपनरान\n",
            "\n",
            "Iteration 6000 : 1.3564504384994507\n",
            "\n",
            "English: The police arres...\n",
            "\n",
            "Hindi Translation: पुलिस ने बदमाशों .\n",
            "\n",
            "Hindi Prediction: युलिस ने काल र ं क\n",
            "\n",
            "Iteration 9000 : 2.241744041442871\n",
            "\n",
            "English: Also Read: Here's How To Prepare Sushi At Home With This Step By Step Guide\n",
            "\n",
            "Hindi Translation: यह भी पढ़ें: घर पर ऐेसे बनाएं स्पाइसी छोले-भटूरे: रेसिपी\n",
            "\n",
            "Hindi Prediction: (ेामा मऱा   सर कर कस   काा ं केथतदन  काड   ाा    कास य्                                                                                                                                                \n",
            "\n",
            "Epoch 6\n",
            "\n",
            "Iteration 0 : 1.4859179258346558\n",
            "\n",
            "English: In reply, Pakistan got off to a solid start.\n",
            "\n",
            "Hindi Translation: जिसके जवाब में पाक ने अच्छी शुरुआत की थी.\n",
            "\n",
            "Hindi Prediction: पिसमे पााब कें क्सिपे कप्छी किरूआत हर ही.\n",
            "\n",
            "Iteration 3000 : 2.312955141067505\n",
            "\n",
            "English: Simultaneous computer\n",
            "\n",
            "Hindi Translation: युगपत कंप्यूटर\n",
            "\n",
            "Hindi Prediction: पहव्न्केपनतूट \n",
            "\n",
            "Iteration 6000 : 1.312177300453186\n",
            "\n",
            "English: The police arres...\n",
            "\n",
            "Hindi Translation: पुलिस ने बदमाशों .\n",
            "\n",
            "Hindi Prediction: व्लिस ने कालतरीं क\n",
            "\n",
            "Iteration 9000 : 2.18967866897583\n",
            "\n",
            "English: Also Read: Here's How To Prepare Sushi At Home With This Step By Step Guide\n",
            "\n",
            "Hindi Translation: यह भी पढ़ें: घर पर ऐेसे बनाएं स्पाइसी छोले-भटूरे: रेसिपी\n",
            "\n",
            "Hindi Prediction: अहामा म़्ें  सट कर कस ा काा ं केथ् न  काट   ाा    सास्ं्                                                                                                                                                \n",
            "\n",
            "Epoch 7\n",
            "\n",
            "Iteration 0 : 1.485414981842041\n",
            "\n",
            "English: In reply, Pakistan got off to a solid start.\n",
            "\n",
            "Hindi Translation: जिसके जवाब में पाक ने अच्छी शुरुआत की थी.\n",
            "\n",
            "Hindi Prediction: पबसके बीाब कें प्रिके कप्छी किरूआत हर ही.\n",
            "\n",
            "Iteration 3000 : 2.349579095840454\n",
            "\n",
            "English: Simultaneous computer\n",
            "\n",
            "Hindi Translation: युगपत कंप्यूटर\n",
            "\n",
            "Hindi Prediction: पहवरडिकरपनतू\n",
            "\n",
            "Iteration 6000 : 1.3069595098495483\n",
            "\n",
            "English: The police arres...\n",
            "\n",
            "Hindi Translation: पुलिस ने बदमाशों .\n",
            "\n",
            "Hindi Prediction: इुलिस ने काल   ं क\n",
            "\n",
            "Iteration 9000 : 2.1091036796569824\n",
            "\n",
            "English: Also Read: Here's How To Prepare Sushi At Home With This Step By Step Guide\n",
            "\n",
            "Hindi Translation: यह भी पढ़ें: घर पर ऐेसे बनाएं स्पाइसी छोले-भटूरे: रेसिपी\n",
            "\n",
            "Hindi Prediction: अेासा हा़ें  कर मर कस   काा   केथा न  काड   ाा    साट यो                                                                                                                                                \n",
            "\n",
            "Epoch 8\n",
            "\n",
            "Iteration 0 : 1.4396847486495972\n",
            "\n",
            "English: In reply, Pakistan got off to a solid start.\n",
            "\n",
            "Hindi Translation: जिसके जवाब में पाक ने अच्छी शुरुआत की थी.\n",
            "\n",
            "Hindi Prediction: इिसके बााब कें स्किके कप्छा कारूआत ही ही.\n",
            "\n",
            "Iteration 3000 : 2.2171404361724854\n",
            "\n",
            "English: Simultaneous computer\n",
            "\n",
            "Hindi Translation: युगपत कंप्यूटर\n",
            "\n",
            "Hindi Prediction: पेव ््केपनतूटर्                                                                                                                                                                                         \n",
            "\n",
            "Iteration 6000 : 1.2564997673034668\n",
            "\n",
            "English: The police arres...\n",
            "\n",
            "Hindi Translation: पुलिस ने बदमाशों .\n",
            "\n",
            "Hindi Prediction: व्लिस ने कालतज ं क\n",
            "\n",
            "Iteration 9000 : 2.0413410663604736\n",
            "\n",
            "English: Also Read: Here's How To Prepare Sushi At Home With This Step By Step Guide\n",
            "\n",
            "Hindi Translation: यह भी पढ़ें: घर पर ऐेसे बनाएं स्पाइसी छोले-भटूरे: रेसिपी\n",
            "\n",
            "Hindi Prediction: कहामी हऱें  कर कर कश ा काा   केथा ल  काट   ा र   काल या                                                                                                                                                \n",
            "\n",
            "Epoch 9\n",
            "\n",
            "Iteration 0 : 1.4351872205734253\n",
            "\n",
            "English: In reply, Pakistan got off to a solid start.\n",
            "\n",
            "Hindi Translation: जिसके जवाब में पाक ने अच्छी शुरुआत की थी.\n",
            "\n",
            "Hindi Prediction: इिसमे बााब कें स्किपे कप्छा कारूआतीही ही.\n",
            "\n",
            "Iteration 3000 : 2.198896646499634\n",
            "\n",
            "English: Simultaneous computer\n",
            "\n",
            "Hindi Translation: युगपत कंप्यूटर\n",
            "\n",
            "Hindi Prediction: सावल््केपनरूटन                                                                                                                                प                                                         \n",
            "\n",
            "Iteration 6000 : 1.164697289466858\n",
            "\n",
            "English: The police arres...\n",
            "\n",
            "Hindi Translation: पुलिस ने बदमाशों .\n",
            "\n",
            "Hindi Prediction: व्लिस ने कनल व ं क\n",
            "\n",
            "Iteration 9000 : 2.09714412689209\n",
            "\n",
            "English: Also Read: Here's How To Prepare Sushi At Home With This Step By Step Guide\n",
            "\n",
            "Hindi Translation: यह भी पढ़ें: घर पर ऐेसे बनाएं स्पाइसी छोले-भटूरे: रेसिपी\n",
            "\n",
            "Hindi Prediction: तह मा कढ़ें  मर कर कस   काा   केटषरन  कोडी  ाार   काख्ना                                                                                                                                                \n",
            "\n",
            "Epoch 10\n",
            "\n",
            "Iteration 0 : 1.4501113891601562\n",
            "\n",
            "English: In reply, Pakistan got off to a solid start.\n",
            "\n",
            "Hindi Translation: जिसके जवाब में पाक ने अच्छी शुरुआत की थी.\n",
            "\n",
            "Hindi Prediction: इबसके बिाब में स्किपह कप्छी कुरूआत हर हा.\n",
            "\n",
            "Iteration 3000 : 2.2209761142730713\n",
            "\n",
            "English: Simultaneous computer\n",
            "\n",
            "Hindi Translation: युगपत कंप्यूटर\n",
            "\n",
            "Hindi Prediction: सेव्््सापनयूटर                                                                                            प                                                                                             \n",
            "\n",
            "Iteration 6000 : 1.1370640993118286\n",
            "\n",
            "English: The police arres...\n",
            "\n",
            "Hindi Translation: पुलिस ने बदमाशों .\n",
            "\n",
            "Hindi Prediction: व्लिस ने काल म ं क\n",
            "\n",
            "Iteration 9000 : 2.033965826034546\n",
            "\n",
            "English: Also Read: Here's How To Prepare Sushi At Home With This Step By Step Guide\n",
            "\n",
            "Hindi Translation: यह भी पढ़ें: घर पर ऐेसे बनाएं स्पाइसी छोले-भटूरे: रेसिपी\n",
            "\n",
            "Hindi Prediction: अहामी पढ़ें  मर कर हस ा कााय  हेवष न  काटा  ा     पाडूक्                                                                                                                                                \n"
          ]
        }
      ]
    },
    {
      "cell_type": "code",
      "source": [
        "transformer.eval()\n",
        "\n",
        "def translate(eng_sentence):\n",
        "    eng_sentence = (eng_sentence,)\n",
        "    hi_sentence = (\"\",)\n",
        "\n",
        "    for word_counter in range(max_sequence_length):\n",
        "        encoder_self_attention_mask, decoder_self_attention_mask, decoder_cross_attention_mask = create_masks(\n",
        "            eng_sentence, hi_sentence\n",
        "        )\n",
        "\n",
        "        predictions = transformer(\n",
        "            eng_sentence,\n",
        "            hi_sentence,\n",
        "            encoder_self_attention_mask.to(device),\n",
        "            decoder_self_attention_mask.to(device),\n",
        "            decoder_cross_attention_mask.to(device),\n",
        "            enc_start_token=False,\n",
        "            enc_end_token=False,\n",
        "            dec_start_token=True,\n",
        "            dec_end_token=False\n",
        "        )\n",
        "\n",
        "        # Get probability distribution for current time step\n",
        "        next_token_prob_distribution = predictions[0][word_counter]\n",
        "        next_token_index = torch.argmax(next_token_prob_distribution).item()\n",
        "        next_token = index_to_hindi[next_token_index]\n",
        "\n",
        "        # Append next token\n",
        "        hi_sentence = (hi_sentence[0] + next_token,)\n",
        "\n",
        "        if next_token == END_TOKEN:\n",
        "            break\n",
        "\n",
        "    return hi_sentence[0]"
      ],
      "metadata": {
        "id": "UUTsbpPcdh6d"
      },
      "execution_count": 35,
      "outputs": []
    },
    {
      "cell_type": "code",
      "source": [
        "eng_input = \"In reply, Pakistan got off to a solid start.\"\n",
        "predicted_hindi = translate(eng_input)\n",
        "print(\"English:\", eng_input)\n",
        "print(\"Prediction:\", predicted_hindi)"
      ],
      "metadata": {
        "colab": {
          "base_uri": "https://localhost:8080/"
        },
        "id": "hAhAR5QXqqmM",
        "outputId": "82036234-cde0-4cb6-9c2d-0241d38ee6e0"
      },
      "execution_count": 36,
      "outputs": [
        {
          "output_type": "stream",
          "name": "stdout",
          "text": [
            "English: In reply, Pakistan got off to a solid start.\n",
            "Prediction: इस पर से कहा कि प्रदर्शन करने के लिए हैं.<end>\n"
          ]
        }
      ]
    },
    {
      "cell_type": "code",
      "source": [
        "translation = translate(\"what should we do when the day starts?\")\n",
        "print(translation)"
      ],
      "metadata": {
        "colab": {
          "base_uri": "https://localhost:8080/"
        },
        "id": "j99JGOexqtoN",
        "outputId": "fd0a2a44-9e33-47c0-a8c4-753eaf7fc35e"
      },
      "execution_count": 37,
      "outputs": [
        {
          "output_type": "stream",
          "name": "stdout",
          "text": [
            "क्या है कि क्या है कि क्या है?<end>\n"
          ]
        }
      ]
    },
    {
      "cell_type": "code",
      "source": [
        "translation = translate(\"how is this the truth?\")\n",
        "print(translation)"
      ],
      "metadata": {
        "colab": {
          "base_uri": "https://localhost:8080/"
        },
        "id": "c5WhUSFtq0E_",
        "outputId": "e4094fb4-c837-4226-907f-bab9815fcbc9"
      },
      "execution_count": 38,
      "outputs": [
        {
          "output_type": "stream",
          "name": "stdout",
          "text": [
            "क्या है कि क्या है?<end>\n"
          ]
        }
      ]
    },
    {
      "cell_type": "code",
      "source": [
        "translation = translate(\"i cannot stand this smell\")\n",
        "print(translation)"
      ],
      "metadata": {
        "colab": {
          "base_uri": "https://localhost:8080/"
        },
        "id": "m1KEvHaLq2za",
        "outputId": "4bf8009f-81cc-4d17-83c7-5a459ed79461"
      },
      "execution_count": 39,
      "outputs": [
        {
          "output_type": "stream",
          "name": "stdout",
          "text": [
            "स्कूल के लिए स्थान<end>\n"
          ]
        }
      ]
    },
    {
      "cell_type": "code",
      "source": [
        "translation = translate(\"noodles are the best\")\n",
        "print(translation)"
      ],
      "metadata": {
        "colab": {
          "base_uri": "https://localhost:8080/"
        },
        "id": "r_hVTOTAq5D5",
        "outputId": "cc94a6be-6842-45d2-dd4c-6533644f8120"
      },
      "execution_count": 40,
      "outputs": [
        {
          "output_type": "stream",
          "name": "stdout",
          "text": [
            "स्वास्थ्य के लिए हैं<end>\n"
          ]
        }
      ]
    },
    {
      "cell_type": "code",
      "source": [
        "translation = translate(\"today, what should we do\")\n",
        "print(translation)"
      ],
      "metadata": {
        "colab": {
          "base_uri": "https://localhost:8080/"
        },
        "id": "a7jPJvqPq7Wr",
        "outputId": "5fa13756-1ea7-463c-a720-f556a1e0113e"
      },
      "execution_count": 41,
      "outputs": [
        {
          "output_type": "stream",
          "name": "stdout",
          "text": [
            "क्या हम करती है, प्रकार करें<end>\n"
          ]
        }
      ]
    },
    {
      "cell_type": "code",
      "source": [
        "translation = translate(\"i am well.\")\n",
        "print(translation)"
      ],
      "metadata": {
        "colab": {
          "base_uri": "https://localhost:8080/"
        },
        "id": "RZG487Nzq9Yc",
        "outputId": "610b94a3-e702-4d48-8b55-97ff80bfd335"
      },
      "execution_count": 42,
      "outputs": [
        {
          "output_type": "stream",
          "name": "stdout",
          "text": [
            "इसके बाद कर .<end>\n"
          ]
        }
      ]
    },
    {
      "cell_type": "code",
      "source": [],
      "metadata": {
        "id": "aBQ_43VErAkH"
      },
      "execution_count": null,
      "outputs": []
    }
  ]
}